{
  "nbformat": 4,
  "nbformat_minor": 0,
  "metadata": {
    "colab": {
      "name": "youtube_download.ipynb",
      "provenance": []
    },
    "kernelspec": {
      "name": "python3",
      "display_name": "Python 3"
    },
    "language_info": {
      "name": "python"
    }
  },
  "cells": [
    {
      "cell_type": "code",
      "execution_count": 5,
      "metadata": {
        "colab": {
          "base_uri": "https://localhost:8080/"
        },
        "id": "hpE16WizNto5",
        "outputId": "49bd6173-f5e1-4970-898c-10ad3e39902d"
      },
      "outputs": [
        {
          "output_type": "stream",
          "name": "stdout",
          "text": [
            "Requirement already satisfied: yt-dlp in /usr/local/lib/python3.7/dist-packages (2021.12.27)\n",
            "Requirement already satisfied: pycryptodomex in /usr/local/lib/python3.7/dist-packages (from yt-dlp) (3.12.0)\n",
            "Requirement already satisfied: websockets in /usr/local/lib/python3.7/dist-packages (from yt-dlp) (10.1)\n",
            "Requirement already satisfied: mutagen in /usr/local/lib/python3.7/dist-packages (from yt-dlp) (1.45.1)\n",
            "Collecting webvtt-py\n",
            "  Downloading webvtt_py-0.4.6-py3-none-any.whl (16 kB)\n",
            "Requirement already satisfied: docopt in /usr/local/lib/python3.7/dist-packages (from webvtt-py) (0.6.2)\n",
            "Installing collected packages: webvtt-py\n",
            "Successfully installed webvtt-py-0.4.6\n"
          ]
        }
      ],
      "source": [
        "#Download module to your Colab\n",
        "!pip install yt-dlp\n",
        "!pip install webvtt-py"
      ]
    },
    {
      "cell_type": "code",
      "source": [
        "from __future__ import unicode_literals\n",
        "import yt_dlp\n",
        "\n",
        "yt_url = ['https://www.youtube.com/watch?v=ngRACHwK6l4&list=PLxJsffCmiafxEXQWJF7c8gZl8h1Kx99Jo']\n",
        "\n",
        "ydl_opts = {\n",
        "'format': 'bv*[height<=480]+ba/b[height<=480] / wv*+ba/w', #Ensures best settings\n",
        "'writesubtitles': True, #Adds a subtitles file if it exists\n",
        "'writeautomaticsub': True, #Adds auto-generated subtitles file\n",
        "'subtitle': '--sub-lang en', #writes subtitles file in english\n",
        "'subtitlesformat':'srt', #writes the subtitles file in \"srt\" or \"ass/srt/best\"\n",
        "'skip_download': True, #skips downloading the video file, if we want to download the vid just change into false\n",
        "}\n",
        "\n",
        "with yt_dlp.YoutubeDL(ydl_opts) as ydl:\n",
        "  ydl.download(yt_url)\n",
        "print(\"Download Successful!\")"
      ],
      "metadata": {
        "colab": {
          "base_uri": "https://localhost:8080/",
          "height": 1000
        },
        "id": "axxo7PvTPHty",
        "outputId": "41f47271-75fd-4991-f164-7847c8884fc7"
      },
      "execution_count": 41,
      "outputs": [
        {
          "output_type": "stream",
          "name": "stdout",
          "text": [
            "[youtube:tab] Downloading playlist PLxJsffCmiafxEXQWJF7c8gZl8h1Kx99Jo; add --no-playlist to just download video ngRACHwK6l4\n",
            "[youtube:tab] PLxJsffCmiafxEXQWJF7c8gZl8h1Kx99Jo: Downloading webpage\n",
            "[youtube:tab] PLxJsffCmiafxEXQWJF7c8gZl8h1Kx99Jo: Downloading webpage\n"
          ]
        },
        {
          "output_type": "stream",
          "name": "stderr",
          "text": [
            "WARNING: [youtube:tab] YouTube said: INFO - 3 unavailable videos are hidden\n"
          ]
        },
        {
          "output_type": "stream",
          "name": "stdout",
          "text": [
            "[youtube:tab] PLxJsffCmiafxEXQWJF7c8gZl8h1Kx99Jo: Downloading API JSON with unavailable videos\n"
          ]
        },
        {
          "output_type": "stream",
          "name": "stderr",
          "text": [
            "WARNING: [youtube:tab] YouTube said: INFO - Unavailable videos will be hidden during playback\n"
          ]
        },
        {
          "output_type": "stream",
          "name": "stdout",
          "text": [
            "[download] Downloading playlist: Shark Tank US | Sony Pictures Television\n",
            "[youtube:tab] playlist Shark Tank US | Sony Pictures Television: Downloading 28 videos\n",
            "[download] Downloading video 1 of 28\n",
            "[youtube] ngRACHwK6l4: Downloading webpage\n",
            "[youtube] ngRACHwK6l4: Downloading android player API JSON\n"
          ]
        },
        {
          "output_type": "stream",
          "name": "stderr",
          "text": [
            "WARNING: No subtitle format found matching \"srt\" for language en, using vtt\n"
          ]
        },
        {
          "output_type": "stream",
          "name": "stdout",
          "text": [
            "[info] ngRACHwK6l4: Downloading 1 format(s): 244+251\n",
            "[info] Writing video subtitles to: Shark Tank US _ Sharks Rush Into The Hallway To Try And Secure A Deal With Knife Aid [ngRACHwK6l4].en.vtt\n",
            "[download] Destination: Shark Tank US _ Sharks Rush Into The Hallway To Try And Secure A Deal With Knife Aid [ngRACHwK6l4].en.vtt\n",
            "[download] 100% of 110.91KiB in 00:00     \n",
            "[download] Downloading video 2 of 28\n",
            "[youtube] BaUkuszb7dg: Downloading webpage\n",
            "[youtube] BaUkuszb7dg: Downloading android player API JSON\n"
          ]
        },
        {
          "output_type": "stream",
          "name": "stderr",
          "text": [
            "WARNING: No subtitle format found matching \"srt\" for language en, using vtt\n"
          ]
        },
        {
          "output_type": "stream",
          "name": "stdout",
          "text": [
            "[info] BaUkuszb7dg: Downloading 1 format(s): 244+251\n",
            "[info] Writing video subtitles to: Shark Tank US _ 10-Year-Old Entrepreneur Wows Sharks With Her Baby Spoon Product [BaUkuszb7dg].en.vtt\n",
            "[download] Destination: Shark Tank US _ 10-Year-Old Entrepreneur Wows Sharks With Her Baby Spoon Product [BaUkuszb7dg].en.vtt\n",
            "[download] 100% of 50.84KiB in 00:00     \n",
            "[download] Downloading video 3 of 28\n",
            "[youtube] TUeLX2xjo0g: Downloading webpage\n",
            "[youtube] TUeLX2xjo0g: Downloading android player API JSON\n"
          ]
        },
        {
          "output_type": "stream",
          "name": "stderr",
          "text": [
            "WARNING: No subtitle format found matching \"srt\" for language en, using vtt\n"
          ]
        },
        {
          "output_type": "stream",
          "name": "stdout",
          "text": [
            "[info] TUeLX2xjo0g: Downloading 1 format(s): 244+251\n",
            "[info] Writing video subtitles to: Shark Tank US _ Pizza Cupcake Company Impresses Lori Greiner [TUeLX2xjo0g].en.vtt\n",
            "[download] Destination: Shark Tank US _ Pizza Cupcake Company Impresses Lori Greiner [TUeLX2xjo0g].en.vtt\n",
            "[download] 100% of 108.58KiB in 00:00     \n",
            "[download] Downloading video 4 of 28\n",
            "[youtube] t576COxzrDg: Downloading webpage\n",
            "[youtube] t576COxzrDg: Downloading android player API JSON\n"
          ]
        },
        {
          "output_type": "stream",
          "name": "stderr",
          "text": [
            "WARNING: No subtitle format found matching \"srt\" for language en, using vtt\n"
          ]
        },
        {
          "output_type": "stream",
          "name": "stdout",
          "text": [
            "[info] t576COxzrDg: Downloading 1 format(s): 244+251\n",
            "[info] Writing video subtitles to: Shark Tank US _ NuMilk Score An Impressive $2M Deal [t576COxzrDg].en.vtt\n",
            "[download] Destination: Shark Tank US _ NuMilk Score An Impressive $2M Deal [t576COxzrDg].en.vtt\n",
            "[download] 100% of 107.97KiB in 00:00     \n",
            "[download] Downloading video 5 of 28\n",
            "[youtube] uGqOFKtqT7w: Downloading webpage\n",
            "[youtube] uGqOFKtqT7w: Downloading android player API JSON\n"
          ]
        },
        {
          "output_type": "stream",
          "name": "stderr",
          "text": [
            "WARNING: No subtitle format found matching \"srt\" for language en, using vtt\n"
          ]
        },
        {
          "output_type": "stream",
          "name": "stdout",
          "text": [
            "[info] uGqOFKtqT7w: Downloading 1 format(s): 244+251\n",
            "[info] Writing video subtitles to: Shark Tank US _ Sharks Are Shocked at 13-Year-Old Entrepreneur's Negotiating Skills [uGqOFKtqT7w].en.vtt\n",
            "[download] Destination: Shark Tank US _ Sharks Are Shocked at 13-Year-Old Entrepreneur's Negotiating Skills [uGqOFKtqT7w].en.vtt\n",
            "[download] 100% of 65.02KiB in 00:00     \n",
            "[download] Downloading video 6 of 28\n",
            "[youtube] RADCBcHJO_k: Downloading webpage\n",
            "[youtube] RADCBcHJO_k: Downloading android player API JSON\n"
          ]
        },
        {
          "output_type": "stream",
          "name": "stderr",
          "text": [
            "WARNING: No subtitle format found matching \"srt\" for language en, using vtt\n"
          ]
        },
        {
          "output_type": "stream",
          "name": "stdout",
          "text": [
            "[info] RADCBcHJO_k: Downloading 1 format(s): 244+251\n",
            "[info] Writing video subtitles to: Shark Tank US _ All Five Sharks Fight To Secure A Deal With Bala Bangles [RADCBcHJO_k].en.vtt\n",
            "[download] Destination: Shark Tank US _ All Five Sharks Fight To Secure A Deal With Bala Bangles [RADCBcHJO_k].en.vtt\n",
            "[download] 100% of 79.43KiB in 00:00     \n",
            "[download] Downloading video 7 of 28\n",
            "[youtube] Gsb98jeXm14: Downloading webpage\n",
            "[youtube] Gsb98jeXm14: Downloading android player API JSON\n"
          ]
        },
        {
          "output_type": "stream",
          "name": "stderr",
          "text": [
            "WARNING: No subtitle format found matching \"srt\" for language en, using vtt\n"
          ]
        },
        {
          "output_type": "stream",
          "name": "stdout",
          "text": [
            "[info] Gsb98jeXm14: Downloading 1 format(s): 244+251\n",
            "[info] Writing video subtitles to: Shark Tank US _ Sharks Fight To Get A Deal With Pan's Mushroom Jerky [Gsb98jeXm14].en.vtt\n",
            "[download] Destination: Shark Tank US _ Sharks Fight To Get A Deal With Pan's Mushroom Jerky [Gsb98jeXm14].en.vtt\n",
            "[download] 100% of 98.31KiB in 00:00     \n",
            "[download] Downloading video 8 of 28\n",
            "[youtube] wp45o5i7zhE: Downloading webpage\n",
            "[youtube] wp45o5i7zhE: Downloading android player API JSON\n"
          ]
        },
        {
          "output_type": "stream",
          "name": "stderr",
          "text": [
            "WARNING: No subtitle format found matching \"srt\" for language en, using vtt\n"
          ]
        },
        {
          "output_type": "stream",
          "name": "stdout",
          "text": [
            "[info] wp45o5i7zhE: Downloading 1 format(s): 244+251\n",
            "[info] Writing video subtitles to: Shark Tank US _ Mark Makes P-Nuff Crunch An Amazing Offer! [wp45o5i7zhE].en.vtt\n",
            "[download] Destination: Shark Tank US _ Mark Makes P-Nuff Crunch An Amazing Offer! [wp45o5i7zhE].en.vtt\n",
            "[download] 100% of 73.19KiB in 00:00     \n",
            "[download] Downloading video 9 of 28\n",
            "[youtube] YLwjb3Uh4t4: Downloading webpage\n",
            "[youtube] YLwjb3Uh4t4: Downloading android player API JSON\n"
          ]
        },
        {
          "output_type": "stream",
          "name": "stderr",
          "text": [
            "WARNING: No subtitle format found matching \"srt\" for language en, using vtt\n"
          ]
        },
        {
          "output_type": "stream",
          "name": "stdout",
          "text": [
            "[info] YLwjb3Uh4t4: Downloading 1 format(s): 244+251\n",
            "[info] Writing video subtitles to: Shark Tank US _ Will Sarah Impress The Sharks With Her Fire Hose Fitness Tool [YLwjb3Uh4t4].en.vtt\n",
            "[download] Destination: Shark Tank US _ Will Sarah Impress The Sharks With Her Fire Hose Fitness Tool [YLwjb3Uh4t4].en.vtt\n",
            "[download] 100% of 105.05KiB in 00:00     \n",
            "[download] Downloading video 10 of 28\n",
            "[youtube] gwKFZlyZ99E: Downloading webpage\n",
            "[youtube] gwKFZlyZ99E: Downloading android player API JSON\n"
          ]
        },
        {
          "output_type": "stream",
          "name": "stderr",
          "text": [
            "WARNING: No subtitle format found matching \"srt\" for language en, using vtt\n"
          ]
        },
        {
          "output_type": "stream",
          "name": "stdout",
          "text": [
            "[info] gwKFZlyZ99E: Downloading 1 format(s): 244+251\n",
            "[info] Writing video subtitles to: Shark Tank US _ Lori Gives Out Her Golden Ticket To Souper Cubes! [gwKFZlyZ99E].en.vtt\n",
            "[download] Destination: Shark Tank US _ Lori Gives Out Her Golden Ticket To Souper Cubes! [gwKFZlyZ99E].en.vtt\n",
            "[download] 100% of 78.62KiB in 00:00     \n",
            "[download] Downloading video 11 of 28\n",
            "[youtube] B0mfuIbkxFU: Downloading webpage\n",
            "[youtube] B0mfuIbkxFU: Downloading android player API JSON\n"
          ]
        },
        {
          "output_type": "stream",
          "name": "stderr",
          "text": [
            "WARNING: No subtitle format found matching \"srt\" for language en, using vtt\n"
          ]
        },
        {
          "output_type": "stream",
          "name": "stdout",
          "text": [
            "[info] B0mfuIbkxFU: Downloading 1 format(s): 244+251\n",
            "[info] Writing video subtitles to: Shark Tank US _ Father and Son Duo Pitch Their 'Touch Up Cup' [B0mfuIbkxFU].en.vtt\n",
            "[download] Destination: Shark Tank US _ Father and Son Duo Pitch Their 'Touch Up Cup' [B0mfuIbkxFU].en.vtt\n",
            "[download] 100% of 93.49KiB in 00:00     \n",
            "[download] Downloading video 12 of 28\n",
            "[youtube] wts9BBz1ALI: Downloading webpage\n",
            "[youtube] wts9BBz1ALI: Downloading android player API JSON\n"
          ]
        },
        {
          "output_type": "stream",
          "name": "stderr",
          "text": [
            "WARNING: No subtitle format found matching \"srt\" for language en, using vtt\n"
          ]
        },
        {
          "output_type": "stream",
          "name": "stdout",
          "text": [
            "[info] wts9BBz1ALI: Downloading 1 format(s): 244+251\n",
            "[info] Writing video subtitles to: Shark Tank US _ Three Sharks Make Competitive Offers For The Better Bedder [wts9BBz1ALI].en.vtt\n",
            "[download] Destination: Shark Tank US _ Three Sharks Make Competitive Offers For The Better Bedder [wts9BBz1ALI].en.vtt\n",
            "[download] 100% of 105.30KiB in 00:00     \n",
            "[download] Downloading video 13 of 28\n",
            "[youtube] lTYN2HmQM2s: Downloading webpage\n",
            "[youtube] lTYN2HmQM2s: Downloading android player API JSON\n"
          ]
        },
        {
          "output_type": "stream",
          "name": "stderr",
          "text": [
            "WARNING: No subtitle format found matching \"srt\" for language en, using vtt\n"
          ]
        },
        {
          "output_type": "stream",
          "name": "stdout",
          "text": [
            "[info] lTYN2HmQM2s: Downloading 1 format(s): 244+251\n",
            "[info] Writing video subtitles to: Shark Tank US _ Kevin Gets Pushed Out Of Simply Good Jars Deal [lTYN2HmQM2s].en.vtt\n",
            "[download] Destination: Shark Tank US _ Kevin Gets Pushed Out Of Simply Good Jars Deal [lTYN2HmQM2s].en.vtt\n",
            "[download] 100% of 104.48KiB in 00:00     \n",
            "[download] Downloading video 14 of 28\n",
            "[youtube] NQ_2gIg18Ho: Downloading webpage\n",
            "[youtube] NQ_2gIg18Ho: Downloading android player API JSON\n"
          ]
        },
        {
          "output_type": "stream",
          "name": "stderr",
          "text": [
            "WARNING: No subtitle format found matching \"srt\" for language en, using vtt\n"
          ]
        },
        {
          "output_type": "stream",
          "name": "stdout",
          "text": [
            "[info] NQ_2gIg18Ho: Downloading 1 format(s): 244+251\n",
            "[info] Writing video subtitles to: Shark Tank US _ Robert Falls Off The Bed During Hug Sleep's Demonstration [NQ_2gIg18Ho].en.vtt\n",
            "[download] Destination: Shark Tank US _ Robert Falls Off The Bed During Hug Sleep's Demonstration [NQ_2gIg18Ho].en.vtt\n",
            "[download] 100% of 97.79KiB in 00:00     \n",
            "[download] Downloading video 15 of 28\n",
            "[youtube] N8fX-T0tF6g: Downloading webpage\n",
            "[youtube] N8fX-T0tF6g: Downloading android player API JSON\n"
          ]
        },
        {
          "output_type": "stream",
          "name": "stderr",
          "text": [
            "WARNING: No subtitle format found matching \"srt\" for language en, using vtt\n"
          ]
        },
        {
          "output_type": "stream",
          "name": "stdout",
          "text": [
            "[info] N8fX-T0tF6g: Downloading 1 format(s): 244+251\n",
            "[info] Writing video subtitles to: Shark Tank US _ Yono Clip Entrepreneurs Impress Daymond John [N8fX-T0tF6g].en.vtt\n",
            "[download] Destination: Shark Tank US _ Yono Clip Entrepreneurs Impress Daymond John [N8fX-T0tF6g].en.vtt\n",
            "[download] 100% of 90.47KiB in 00:00     \n",
            "[download] Downloading video 16 of 28\n",
            "[youtube] MJO3kI8D974: Downloading webpage\n",
            "[youtube] MJO3kI8D974: Downloading android player API JSON\n"
          ]
        },
        {
          "output_type": "stream",
          "name": "stderr",
          "text": [
            "WARNING: No subtitle format found matching \"srt\" for language en, using vtt\n"
          ]
        },
        {
          "output_type": "stream",
          "name": "stdout",
          "text": [
            "[info] MJO3kI8D974: Downloading 1 format(s): 244+251\n",
            "[info] Writing video subtitles to: Shark Tank US _ Kevin Retracts His Offer After Flipstik Entrepreneur Hesitates [MJO3kI8D974].en.vtt\n",
            "[download] Destination: Shark Tank US _ Kevin Retracts His Offer After Flipstik Entrepreneur Hesitates [MJO3kI8D974].en.vtt\n",
            "[download] 100% of 94.29KiB in 00:00     \n",
            "[download] Downloading video 17 of 28\n",
            "[youtube] G3jUc_A7ghw: Downloading webpage\n",
            "[youtube] G3jUc_A7ghw: Downloading android player API JSON\n",
            "[info] G3jUc_A7ghw: Downloading 1 format(s): 244+251\n",
            "[download] Downloading video 18 of 28\n",
            "[youtube] gTc2JU2nfR4: Downloading webpage\n",
            "[youtube] gTc2JU2nfR4: Downloading android player API JSON\n"
          ]
        },
        {
          "output_type": "stream",
          "name": "stderr",
          "text": [
            "WARNING: No subtitle format found matching \"srt\" for language en, using vtt\n"
          ]
        },
        {
          "output_type": "stream",
          "name": "stdout",
          "text": [
            "[info] gTc2JU2nfR4: Downloading 1 format(s): 244+251\n",
            "[info] Writing video subtitles to: Shark Tank US _ Will This Toilet Timer Impress The Sharks [gTc2JU2nfR4].en.vtt\n",
            "[download] Destination: Shark Tank US _ Will This Toilet Timer Impress The Sharks [gTc2JU2nfR4].en.vtt\n",
            "[download] 100% of 78.01KiB in 00:00     \n",
            "[download] Downloading video 19 of 28\n",
            "[youtube] Id2hTL13PpU: Downloading webpage\n",
            "[youtube] Id2hTL13PpU: Downloading android player API JSON\n"
          ]
        },
        {
          "output_type": "stream",
          "name": "stderr",
          "text": [
            "WARNING: No subtitle format found matching \"srt\" for language en, using vtt\n"
          ]
        },
        {
          "output_type": "stream",
          "name": "stdout",
          "text": [
            "[info] Id2hTL13PpU: Downloading 1 format(s): 244+251\n",
            "[info] Writing video subtitles to: Shark Tank US _ Pluto Pillow Company Get An Offer! [Id2hTL13PpU].en.vtt\n",
            "[download] Destination: Shark Tank US _ Pluto Pillow Company Get An Offer! [Id2hTL13PpU].en.vtt\n",
            "[download] 100% of 98.01KiB in 00:00     \n",
            "[download] Downloading video 20 of 28\n",
            "[youtube] igzjl6DM6ao: Downloading webpage\n",
            "[youtube] igzjl6DM6ao: Downloading android player API JSON\n"
          ]
        },
        {
          "output_type": "stream",
          "name": "stderr",
          "text": [
            "WARNING: No subtitle format found matching \"srt\" for language en, using vtt\n"
          ]
        },
        {
          "output_type": "stream",
          "name": "stdout",
          "text": [
            "[info] igzjl6DM6ao: Downloading 1 format(s): 244+251\n",
            "[info] Writing video subtitles to: Shark Tank US _ Two Sharks Team Up To Make Phoozy A Deal [igzjl6DM6ao].en.vtt\n",
            "[download] Destination: Shark Tank US _ Two Sharks Team Up To Make Phoozy A Deal [igzjl6DM6ao].en.vtt\n",
            "[download] 100% of 88.96KiB in 00:00     \n",
            "[download] Downloading video 21 of 28\n",
            "[youtube] OslUfkF1S8s: Downloading webpage\n",
            "[youtube] OslUfkF1S8s: Downloading android player API JSON\n"
          ]
        },
        {
          "output_type": "stream",
          "name": "stderr",
          "text": [
            "WARNING: No subtitle format found matching \"srt\" for language en, using vtt\n"
          ]
        },
        {
          "output_type": "stream",
          "name": "stdout",
          "text": [
            "[info] OslUfkF1S8s: Downloading 1 format(s): 244+251\n",
            "[info] Writing video subtitles to: Shark Tank US _ The Sharks Can't Get Beyond Brumachen's Valuation (ft. Ross Smith) [OslUfkF1S8s].en.vtt\n",
            "[download] Destination: Shark Tank US _ The Sharks Can't Get Beyond Brumachen's Valuation (ft. Ross Smith) [OslUfkF1S8s].en.vtt\n",
            "[download] 100% of 82.93KiB in 00:00     \n",
            "[download] Downloading video 22 of 28\n",
            "[youtube] FClVRrbzLAo: Downloading webpage\n",
            "[youtube] FClVRrbzLAo: Downloading android player API JSON\n"
          ]
        },
        {
          "output_type": "stream",
          "name": "stderr",
          "text": [
            "WARNING: No subtitle format found matching \"srt\" for language en, using vtt\n"
          ]
        },
        {
          "output_type": "stream",
          "name": "stdout",
          "text": [
            "[info] FClVRrbzLAo: Downloading 1 format(s): 244+251\n",
            "[info] Writing video subtitles to: Shark Tank US _ Zombie Attacks During Rapid Rope Pitch [FClVRrbzLAo].en.vtt\n",
            "[download] Destination: Shark Tank US _ Zombie Attacks During Rapid Rope Pitch [FClVRrbzLAo].en.vtt\n",
            "[download] 100% of 72.37KiB in 00:00     \n",
            "[download] Downloading video 23 of 28\n",
            "[youtube] upT5ji9GPzc: Downloading webpage\n",
            "[youtube] upT5ji9GPzc: Downloading android player API JSON\n"
          ]
        },
        {
          "output_type": "stream",
          "name": "stderr",
          "text": [
            "WARNING: No subtitle format found matching \"srt\" for language en, using vtt\n"
          ]
        },
        {
          "output_type": "stream",
          "name": "stdout",
          "text": [
            "[info] upT5ji9GPzc: Downloading 1 format(s): 244+251\n",
            "[info] Writing video subtitles to: Shark Tank US _ Mark Loves His OpulenceMD Beauty Eyelashes [upT5ji9GPzc].en.vtt\n",
            "[download] Destination: Shark Tank US _ Mark Loves His OpulenceMD Beauty Eyelashes [upT5ji9GPzc].en.vtt\n",
            "[download] 100% of 80.36KiB in 00:00     \n",
            "[download] Downloading video 24 of 28\n",
            "[youtube] 3Pj_yKCBV6g: Downloading webpage\n",
            "[youtube] 3Pj_yKCBV6g: Downloading android player API JSON\n"
          ]
        },
        {
          "output_type": "stream",
          "name": "stderr",
          "text": [
            "WARNING: No subtitle format found matching \"srt\" for language en, using vtt\n"
          ]
        },
        {
          "output_type": "stream",
          "name": "stdout",
          "text": [
            "[info] 3Pj_yKCBV6g: Downloading 1 format(s): 244+251\n",
            "[info] Writing video subtitles to: Shark Tank US _ Can Make-up Brand Luna Magic Tempt The Sharks [3Pj_yKCBV6g].en.vtt\n",
            "[download] Destination: Shark Tank US _ Can Make-up Brand Luna Magic Tempt The Sharks [3Pj_yKCBV6g].en.vtt\n",
            "[download] 100% of 104.91KiB in 00:00     \n",
            "[download] Downloading video 25 of 28\n",
            "[youtube] KzEamHjBTSU: Downloading webpage\n",
            "[youtube] KzEamHjBTSU: Downloading android player API JSON\n"
          ]
        },
        {
          "output_type": "stream",
          "name": "stderr",
          "text": [
            "WARNING: No subtitle format found matching \"srt\" for language en, using vtt\n"
          ]
        },
        {
          "output_type": "stream",
          "name": "stdout",
          "text": [
            "[info] KzEamHjBTSU: Downloading 1 format(s): 244+251\n",
            "[info] Writing video subtitles to: Shark Tank US _ Shark Tank Say What! [KzEamHjBTSU].en.vtt\n",
            "[download] Destination: Shark Tank US _ Shark Tank Say What! [KzEamHjBTSU].en.vtt\n",
            "[download] 100% of 35.72KiB in 00:00     \n",
            "[download] Downloading video 26 of 28\n",
            "[youtube] SE6TrscM2zg: Downloading webpage\n",
            "[youtube] SE6TrscM2zg: Downloading android player API JSON\n"
          ]
        },
        {
          "output_type": "stream",
          "name": "stderr",
          "text": [
            "ERROR: [youtube] SE6TrscM2zg: Private video. Sign in if you've been granted access to this video\n"
          ]
        },
        {
          "output_type": "error",
          "ename": "DownloadError",
          "evalue": "ignored",
          "traceback": [
            "\u001b[0;31m---------------------------------------------------------------------------\u001b[0m",
            "\u001b[0;31mExtractorError\u001b[0m                            Traceback (most recent call last)",
            "\u001b[0;32m/usr/local/lib/python3.7/dist-packages/yt_dlp/extractor/common.py\u001b[0m in \u001b[0;36mextract\u001b[0;34m(self, url)\u001b[0m\n\u001b[1;32m    598\u001b[0m                     \u001b[0mself\u001b[0m\u001b[0;34m.\u001b[0m\u001b[0mwrite_debug\u001b[0m\u001b[0;34m(\u001b[0m\u001b[0;34m'Extracting URL: %s'\u001b[0m \u001b[0;34m%\u001b[0m \u001b[0murl\u001b[0m\u001b[0;34m)\u001b[0m\u001b[0;34m\u001b[0m\u001b[0;34m\u001b[0m\u001b[0m\n\u001b[0;32m--> 599\u001b[0;31m                     \u001b[0mie_result\u001b[0m \u001b[0;34m=\u001b[0m \u001b[0mself\u001b[0m\u001b[0;34m.\u001b[0m\u001b[0m_real_extract\u001b[0m\u001b[0;34m(\u001b[0m\u001b[0murl\u001b[0m\u001b[0;34m)\u001b[0m\u001b[0;34m\u001b[0m\u001b[0;34m\u001b[0m\u001b[0m\n\u001b[0m\u001b[1;32m    600\u001b[0m                     \u001b[0;32mif\u001b[0m \u001b[0mie_result\u001b[0m \u001b[0;32mis\u001b[0m \u001b[0;32mNone\u001b[0m\u001b[0;34m:\u001b[0m\u001b[0;34m\u001b[0m\u001b[0;34m\u001b[0m\u001b[0m\n",
            "\u001b[0;32m/usr/local/lib/python3.7/dist-packages/yt_dlp/extractor/youtube.py\u001b[0m in \u001b[0;36m_real_extract\u001b[0;34m(self, url)\u001b[0m\n\u001b[1;32m   2920\u001b[0m             \u001b[0;32mif\u001b[0m \u001b[0mreason\u001b[0m\u001b[0;34m:\u001b[0m\u001b[0;34m\u001b[0m\u001b[0;34m\u001b[0m\u001b[0m\n\u001b[0;32m-> 2921\u001b[0;31m                 \u001b[0mself\u001b[0m\u001b[0;34m.\u001b[0m\u001b[0mraise_no_formats\u001b[0m\u001b[0;34m(\u001b[0m\u001b[0mreason\u001b[0m\u001b[0;34m,\u001b[0m \u001b[0mexpected\u001b[0m\u001b[0;34m=\u001b[0m\u001b[0;32mTrue\u001b[0m\u001b[0;34m)\u001b[0m\u001b[0;34m\u001b[0m\u001b[0;34m\u001b[0m\u001b[0m\n\u001b[0m\u001b[1;32m   2922\u001b[0m \u001b[0;34m\u001b[0m\u001b[0m\n",
            "\u001b[0;32m/usr/local/lib/python3.7/dist-packages/yt_dlp/extractor/common.py\u001b[0m in \u001b[0;36mraise_no_formats\u001b[0;34m(self, msg, expected, video_id)\u001b[0m\n\u001b[1;32m   1106\u001b[0m         \u001b[0;32melse\u001b[0m\u001b[0;34m:\u001b[0m\u001b[0;34m\u001b[0m\u001b[0;34m\u001b[0m\u001b[0m\n\u001b[0;32m-> 1107\u001b[0;31m             \u001b[0;32mraise\u001b[0m \u001b[0mExtractorError\u001b[0m\u001b[0;34m(\u001b[0m\u001b[0mmsg\u001b[0m\u001b[0;34m,\u001b[0m \u001b[0mexpected\u001b[0m\u001b[0;34m=\u001b[0m\u001b[0mexpected\u001b[0m\u001b[0;34m,\u001b[0m \u001b[0mvideo_id\u001b[0m\u001b[0;34m=\u001b[0m\u001b[0mvideo_id\u001b[0m\u001b[0;34m)\u001b[0m\u001b[0;34m\u001b[0m\u001b[0;34m\u001b[0m\u001b[0m\n\u001b[0m\u001b[1;32m   1108\u001b[0m \u001b[0;34m\u001b[0m\u001b[0m\n",
            "\u001b[0;31mExtractorError\u001b[0m: Private video. Sign in if you've been granted access to this video",
            "\nDuring handling of the above exception, another exception occurred:\n",
            "\u001b[0;31mExtractorError\u001b[0m                            Traceback (most recent call last)",
            "\u001b[0;32m/usr/local/lib/python3.7/dist-packages/yt_dlp/YoutubeDL.py\u001b[0m in \u001b[0;36mwrapper\u001b[0;34m(self, *args, **kwargs)\u001b[0m\n\u001b[1;32m   1352\u001b[0m                 \u001b[0;32mtry\u001b[0m\u001b[0;34m:\u001b[0m\u001b[0;34m\u001b[0m\u001b[0;34m\u001b[0m\u001b[0m\n\u001b[0;32m-> 1353\u001b[0;31m                     \u001b[0;32mreturn\u001b[0m \u001b[0mfunc\u001b[0m\u001b[0;34m(\u001b[0m\u001b[0mself\u001b[0m\u001b[0;34m,\u001b[0m \u001b[0;34m*\u001b[0m\u001b[0margs\u001b[0m\u001b[0;34m,\u001b[0m \u001b[0;34m**\u001b[0m\u001b[0mkwargs\u001b[0m\u001b[0;34m)\u001b[0m\u001b[0;34m\u001b[0m\u001b[0;34m\u001b[0m\u001b[0m\n\u001b[0m\u001b[1;32m   1354\u001b[0m                 \u001b[0;32mexcept\u001b[0m \u001b[0;34m(\u001b[0m\u001b[0mDownloadCancelled\u001b[0m\u001b[0;34m,\u001b[0m \u001b[0mLazyList\u001b[0m\u001b[0;34m.\u001b[0m\u001b[0mIndexError\u001b[0m\u001b[0;34m,\u001b[0m \u001b[0mPagedList\u001b[0m\u001b[0;34m.\u001b[0m\u001b[0mIndexError\u001b[0m\u001b[0;34m)\u001b[0m\u001b[0;34m:\u001b[0m\u001b[0;34m\u001b[0m\u001b[0;34m\u001b[0m\u001b[0m\n",
            "\u001b[0;32m/usr/local/lib/python3.7/dist-packages/yt_dlp/YoutubeDL.py\u001b[0m in \u001b[0;36m__extract_info\u001b[0;34m(self, url, ie, download, extra_info, process)\u001b[0m\n\u001b[1;32m   1422\u001b[0m     \u001b[0;32mdef\u001b[0m \u001b[0m__extract_info\u001b[0m\u001b[0;34m(\u001b[0m\u001b[0mself\u001b[0m\u001b[0;34m,\u001b[0m \u001b[0murl\u001b[0m\u001b[0;34m,\u001b[0m \u001b[0mie\u001b[0m\u001b[0;34m,\u001b[0m \u001b[0mdownload\u001b[0m\u001b[0;34m,\u001b[0m \u001b[0mextra_info\u001b[0m\u001b[0;34m,\u001b[0m \u001b[0mprocess\u001b[0m\u001b[0;34m)\u001b[0m\u001b[0;34m:\u001b[0m\u001b[0;34m\u001b[0m\u001b[0;34m\u001b[0m\u001b[0m\n\u001b[0;32m-> 1423\u001b[0;31m         \u001b[0mie_result\u001b[0m \u001b[0;34m=\u001b[0m \u001b[0mie\u001b[0m\u001b[0;34m.\u001b[0m\u001b[0mextract\u001b[0m\u001b[0;34m(\u001b[0m\u001b[0murl\u001b[0m\u001b[0;34m)\u001b[0m\u001b[0;34m\u001b[0m\u001b[0;34m\u001b[0m\u001b[0m\n\u001b[0m\u001b[1;32m   1424\u001b[0m         \u001b[0;32mif\u001b[0m \u001b[0mie_result\u001b[0m \u001b[0;32mis\u001b[0m \u001b[0;32mNone\u001b[0m\u001b[0;34m:\u001b[0m  \u001b[0;31m# Finished already (backwards compatibility; listformats and friends should be moved here)\u001b[0m\u001b[0;34m\u001b[0m\u001b[0;34m\u001b[0m\u001b[0m\n",
            "\u001b[0;32m/usr/local/lib/python3.7/dist-packages/yt_dlp/extractor/common.py\u001b[0m in \u001b[0;36mextract\u001b[0;34m(self, url)\u001b[0m\n\u001b[1;32m    624\u001b[0m                 \u001b[0mkwargs\u001b[0m\u001b[0;34m[\u001b[0m\u001b[0;34m'countries'\u001b[0m\u001b[0;34m]\u001b[0m \u001b[0;34m=\u001b[0m \u001b[0me\u001b[0m\u001b[0;34m.\u001b[0m\u001b[0mcountries\u001b[0m\u001b[0;34m\u001b[0m\u001b[0;34m\u001b[0m\u001b[0m\n\u001b[0;32m--> 625\u001b[0;31m             \u001b[0;32mraise\u001b[0m \u001b[0mtype\u001b[0m\u001b[0;34m(\u001b[0m\u001b[0me\u001b[0m\u001b[0;34m)\u001b[0m\u001b[0;34m(\u001b[0m\u001b[0me\u001b[0m\u001b[0;34m.\u001b[0m\u001b[0mmsg\u001b[0m\u001b[0;34m,\u001b[0m \u001b[0;34m**\u001b[0m\u001b[0mkwargs\u001b[0m\u001b[0;34m)\u001b[0m\u001b[0;34m\u001b[0m\u001b[0;34m\u001b[0m\u001b[0m\n\u001b[0m\u001b[1;32m    626\u001b[0m         \u001b[0;32mexcept\u001b[0m \u001b[0mcompat_http_client\u001b[0m\u001b[0;34m.\u001b[0m\u001b[0mIncompleteRead\u001b[0m \u001b[0;32mas\u001b[0m \u001b[0me\u001b[0m\u001b[0;34m:\u001b[0m\u001b[0;34m\u001b[0m\u001b[0;34m\u001b[0m\u001b[0m\n",
            "\u001b[0;31mExtractorError\u001b[0m: [youtube] SE6TrscM2zg: Private video. Sign in if you've been granted access to this video",
            "\nDuring handling of the above exception, another exception occurred:\n",
            "\u001b[0;31mDownloadError\u001b[0m                             Traceback (most recent call last)",
            "\u001b[0;32m<ipython-input-41-7ea192cbcb4b>\u001b[0m in \u001b[0;36m<module>\u001b[0;34m()\u001b[0m\n\u001b[1;32m     16\u001b[0m \u001b[0;34m\u001b[0m\u001b[0m\n\u001b[1;32m     17\u001b[0m \u001b[0;32mwith\u001b[0m \u001b[0myt_dlp\u001b[0m\u001b[0;34m.\u001b[0m\u001b[0mYoutubeDL\u001b[0m\u001b[0;34m(\u001b[0m\u001b[0mydl_opts\u001b[0m\u001b[0;34m)\u001b[0m \u001b[0;32mas\u001b[0m \u001b[0mydl\u001b[0m\u001b[0;34m:\u001b[0m\u001b[0;34m\u001b[0m\u001b[0;34m\u001b[0m\u001b[0m\n\u001b[0;32m---> 18\u001b[0;31m   \u001b[0mydl\u001b[0m\u001b[0;34m.\u001b[0m\u001b[0mdownload\u001b[0m\u001b[0;34m(\u001b[0m\u001b[0myt_url\u001b[0m\u001b[0;34m)\u001b[0m\u001b[0;34m\u001b[0m\u001b[0;34m\u001b[0m\u001b[0m\n\u001b[0m\u001b[1;32m     19\u001b[0m \u001b[0mprint\u001b[0m\u001b[0;34m(\u001b[0m\u001b[0;34m\"Download Successful!\"\u001b[0m\u001b[0;34m)\u001b[0m\u001b[0;34m\u001b[0m\u001b[0;34m\u001b[0m\u001b[0m\n",
            "\u001b[0;32m/usr/local/lib/python3.7/dist-packages/yt_dlp/YoutubeDL.py\u001b[0m in \u001b[0;36mdownload\u001b[0;34m(self, url_list)\u001b[0m\n\u001b[1;32m   3112\u001b[0m         \u001b[0;32mfor\u001b[0m \u001b[0murl\u001b[0m \u001b[0;32min\u001b[0m \u001b[0murl_list\u001b[0m\u001b[0;34m:\u001b[0m\u001b[0;34m\u001b[0m\u001b[0;34m\u001b[0m\u001b[0m\n\u001b[1;32m   3113\u001b[0m             self.__download_wrapper(self.extract_info)(\n\u001b[0;32m-> 3114\u001b[0;31m                 url, force_generic_extractor=self.params.get('force_generic_extractor', False))\n\u001b[0m\u001b[1;32m   3115\u001b[0m \u001b[0;34m\u001b[0m\u001b[0m\n\u001b[1;32m   3116\u001b[0m         \u001b[0;32mreturn\u001b[0m \u001b[0mself\u001b[0m\u001b[0;34m.\u001b[0m\u001b[0m_download_retcode\u001b[0m\u001b[0;34m\u001b[0m\u001b[0;34m\u001b[0m\u001b[0m\n",
            "\u001b[0;32m/usr/local/lib/python3.7/dist-packages/yt_dlp/YoutubeDL.py\u001b[0m in \u001b[0;36mwrapper\u001b[0;34m(*args, **kwargs)\u001b[0m\n\u001b[1;32m   3084\u001b[0m         \u001b[0;32mdef\u001b[0m \u001b[0mwrapper\u001b[0m\u001b[0;34m(\u001b[0m\u001b[0;34m*\u001b[0m\u001b[0margs\u001b[0m\u001b[0;34m,\u001b[0m \u001b[0;34m**\u001b[0m\u001b[0mkwargs\u001b[0m\u001b[0;34m)\u001b[0m\u001b[0;34m:\u001b[0m\u001b[0;34m\u001b[0m\u001b[0;34m\u001b[0m\u001b[0m\n\u001b[1;32m   3085\u001b[0m             \u001b[0;32mtry\u001b[0m\u001b[0;34m:\u001b[0m\u001b[0;34m\u001b[0m\u001b[0;34m\u001b[0m\u001b[0m\n\u001b[0;32m-> 3086\u001b[0;31m                 \u001b[0mres\u001b[0m \u001b[0;34m=\u001b[0m \u001b[0mfunc\u001b[0m\u001b[0;34m(\u001b[0m\u001b[0;34m*\u001b[0m\u001b[0margs\u001b[0m\u001b[0;34m,\u001b[0m \u001b[0;34m**\u001b[0m\u001b[0mkwargs\u001b[0m\u001b[0;34m)\u001b[0m\u001b[0;34m\u001b[0m\u001b[0;34m\u001b[0m\u001b[0m\n\u001b[0m\u001b[1;32m   3087\u001b[0m             \u001b[0;32mexcept\u001b[0m \u001b[0mUnavailableVideoError\u001b[0m \u001b[0;32mas\u001b[0m \u001b[0me\u001b[0m\u001b[0;34m:\u001b[0m\u001b[0;34m\u001b[0m\u001b[0;34m\u001b[0m\u001b[0m\n\u001b[1;32m   3088\u001b[0m                 \u001b[0mself\u001b[0m\u001b[0;34m.\u001b[0m\u001b[0mreport_error\u001b[0m\u001b[0;34m(\u001b[0m\u001b[0me\u001b[0m\u001b[0;34m)\u001b[0m\u001b[0;34m\u001b[0m\u001b[0;34m\u001b[0m\u001b[0m\n",
            "\u001b[0;32m/usr/local/lib/python3.7/dist-packages/yt_dlp/YoutubeDL.py\u001b[0m in \u001b[0;36mextract_info\u001b[0;34m(self, url, download, ie_key, extra_info, process, force_generic_extractor)\u001b[0m\n\u001b[1;32m   1342\u001b[0m                     \u001b[0;32mraise\u001b[0m \u001b[0mExistingVideoReached\u001b[0m\u001b[0;34m(\u001b[0m\u001b[0;34m)\u001b[0m\u001b[0;34m\u001b[0m\u001b[0;34m\u001b[0m\u001b[0m\n\u001b[1;32m   1343\u001b[0m                 \u001b[0;32mbreak\u001b[0m\u001b[0;34m\u001b[0m\u001b[0;34m\u001b[0m\u001b[0m\n\u001b[0;32m-> 1344\u001b[0;31m             \u001b[0;32mreturn\u001b[0m \u001b[0mself\u001b[0m\u001b[0;34m.\u001b[0m\u001b[0m__extract_info\u001b[0m\u001b[0;34m(\u001b[0m\u001b[0murl\u001b[0m\u001b[0;34m,\u001b[0m \u001b[0mself\u001b[0m\u001b[0;34m.\u001b[0m\u001b[0mget_info_extractor\u001b[0m\u001b[0;34m(\u001b[0m\u001b[0mie_key\u001b[0m\u001b[0;34m)\u001b[0m\u001b[0;34m,\u001b[0m \u001b[0mdownload\u001b[0m\u001b[0;34m,\u001b[0m \u001b[0mextra_info\u001b[0m\u001b[0;34m,\u001b[0m \u001b[0mprocess\u001b[0m\u001b[0;34m)\u001b[0m\u001b[0;34m\u001b[0m\u001b[0;34m\u001b[0m\u001b[0m\n\u001b[0m\u001b[1;32m   1345\u001b[0m         \u001b[0;32melse\u001b[0m\u001b[0;34m:\u001b[0m\u001b[0;34m\u001b[0m\u001b[0;34m\u001b[0m\u001b[0m\n\u001b[1;32m   1346\u001b[0m             \u001b[0mself\u001b[0m\u001b[0;34m.\u001b[0m\u001b[0mreport_error\u001b[0m\u001b[0;34m(\u001b[0m\u001b[0;34m'no suitable InfoExtractor for URL %s'\u001b[0m \u001b[0;34m%\u001b[0m \u001b[0murl\u001b[0m\u001b[0;34m)\u001b[0m\u001b[0;34m\u001b[0m\u001b[0;34m\u001b[0m\u001b[0m\n",
            "\u001b[0;32m/usr/local/lib/python3.7/dist-packages/yt_dlp/YoutubeDL.py\u001b[0m in \u001b[0;36mwrapper\u001b[0;34m(self, *args, **kwargs)\u001b[0m\n\u001b[1;32m   1351\u001b[0m             \u001b[0;32mwhile\u001b[0m \u001b[0;32mTrue\u001b[0m\u001b[0;34m:\u001b[0m\u001b[0;34m\u001b[0m\u001b[0;34m\u001b[0m\u001b[0m\n\u001b[1;32m   1352\u001b[0m                 \u001b[0;32mtry\u001b[0m\u001b[0;34m:\u001b[0m\u001b[0;34m\u001b[0m\u001b[0;34m\u001b[0m\u001b[0m\n\u001b[0;32m-> 1353\u001b[0;31m                     \u001b[0;32mreturn\u001b[0m \u001b[0mfunc\u001b[0m\u001b[0;34m(\u001b[0m\u001b[0mself\u001b[0m\u001b[0;34m,\u001b[0m \u001b[0;34m*\u001b[0m\u001b[0margs\u001b[0m\u001b[0;34m,\u001b[0m \u001b[0;34m**\u001b[0m\u001b[0mkwargs\u001b[0m\u001b[0;34m)\u001b[0m\u001b[0;34m\u001b[0m\u001b[0;34m\u001b[0m\u001b[0m\n\u001b[0m\u001b[1;32m   1354\u001b[0m                 \u001b[0;32mexcept\u001b[0m \u001b[0;34m(\u001b[0m\u001b[0mDownloadCancelled\u001b[0m\u001b[0;34m,\u001b[0m \u001b[0mLazyList\u001b[0m\u001b[0;34m.\u001b[0m\u001b[0mIndexError\u001b[0m\u001b[0;34m,\u001b[0m \u001b[0mPagedList\u001b[0m\u001b[0;34m.\u001b[0m\u001b[0mIndexError\u001b[0m\u001b[0;34m)\u001b[0m\u001b[0;34m:\u001b[0m\u001b[0;34m\u001b[0m\u001b[0;34m\u001b[0m\u001b[0m\n\u001b[1;32m   1355\u001b[0m                     \u001b[0;32mraise\u001b[0m\u001b[0;34m\u001b[0m\u001b[0;34m\u001b[0m\u001b[0m\n",
            "\u001b[0;32m/usr/local/lib/python3.7/dist-packages/yt_dlp/YoutubeDL.py\u001b[0m in \u001b[0;36m__extract_info\u001b[0;34m(self, url, ie, download, extra_info, process)\u001b[0m\n\u001b[1;32m   1435\u001b[0m         \u001b[0;32mif\u001b[0m \u001b[0mprocess\u001b[0m\u001b[0;34m:\u001b[0m\u001b[0;34m\u001b[0m\u001b[0;34m\u001b[0m\u001b[0m\n\u001b[1;32m   1436\u001b[0m             \u001b[0mself\u001b[0m\u001b[0;34m.\u001b[0m\u001b[0m_wait_for_video\u001b[0m\u001b[0;34m(\u001b[0m\u001b[0mie_result\u001b[0m\u001b[0;34m)\u001b[0m\u001b[0;34m\u001b[0m\u001b[0;34m\u001b[0m\u001b[0m\n\u001b[0;32m-> 1437\u001b[0;31m             \u001b[0;32mreturn\u001b[0m \u001b[0mself\u001b[0m\u001b[0;34m.\u001b[0m\u001b[0mprocess_ie_result\u001b[0m\u001b[0;34m(\u001b[0m\u001b[0mie_result\u001b[0m\u001b[0;34m,\u001b[0m \u001b[0mdownload\u001b[0m\u001b[0;34m,\u001b[0m \u001b[0mextra_info\u001b[0m\u001b[0;34m)\u001b[0m\u001b[0;34m\u001b[0m\u001b[0;34m\u001b[0m\u001b[0m\n\u001b[0m\u001b[1;32m   1438\u001b[0m         \u001b[0;32melse\u001b[0m\u001b[0;34m:\u001b[0m\u001b[0;34m\u001b[0m\u001b[0;34m\u001b[0m\u001b[0m\n\u001b[1;32m   1439\u001b[0m             \u001b[0;32mreturn\u001b[0m \u001b[0mie_result\u001b[0m\u001b[0;34m\u001b[0m\u001b[0;34m\u001b[0m\u001b[0m\n",
            "\u001b[0;32m/usr/local/lib/python3.7/dist-packages/yt_dlp/YoutubeDL.py\u001b[0m in \u001b[0;36mprocess_ie_result\u001b[0;34m(self, ie_result, download, extra_info)\u001b[0m\n\u001b[1;32m   1509\u001b[0m                 \u001b[0mie_result\u001b[0m\u001b[0;34m[\u001b[0m\u001b[0;34m'url'\u001b[0m\u001b[0;34m]\u001b[0m\u001b[0;34m,\u001b[0m \u001b[0mdownload\u001b[0m\u001b[0;34m,\u001b[0m\u001b[0;34m\u001b[0m\u001b[0;34m\u001b[0m\u001b[0m\n\u001b[1;32m   1510\u001b[0m                 \u001b[0mie_key\u001b[0m\u001b[0;34m=\u001b[0m\u001b[0mie_result\u001b[0m\u001b[0;34m.\u001b[0m\u001b[0mget\u001b[0m\u001b[0;34m(\u001b[0m\u001b[0;34m'ie_key'\u001b[0m\u001b[0;34m)\u001b[0m\u001b[0;34m,\u001b[0m\u001b[0;34m\u001b[0m\u001b[0;34m\u001b[0m\u001b[0m\n\u001b[0;32m-> 1511\u001b[0;31m                 extra_info=extra_info)\n\u001b[0m\u001b[1;32m   1512\u001b[0m         \u001b[0;32melif\u001b[0m \u001b[0mresult_type\u001b[0m \u001b[0;34m==\u001b[0m \u001b[0;34m'url_transparent'\u001b[0m\u001b[0;34m:\u001b[0m\u001b[0;34m\u001b[0m\u001b[0;34m\u001b[0m\u001b[0m\n\u001b[1;32m   1513\u001b[0m             \u001b[0;31m# Use the information from the embedding page\u001b[0m\u001b[0;34m\u001b[0m\u001b[0;34m\u001b[0m\u001b[0;34m\u001b[0m\u001b[0m\n",
            "\u001b[0;32m/usr/local/lib/python3.7/dist-packages/yt_dlp/YoutubeDL.py\u001b[0m in \u001b[0;36mextract_info\u001b[0;34m(self, url, download, ie_key, extra_info, process, force_generic_extractor)\u001b[0m\n\u001b[1;32m   1342\u001b[0m                     \u001b[0;32mraise\u001b[0m \u001b[0mExistingVideoReached\u001b[0m\u001b[0;34m(\u001b[0m\u001b[0;34m)\u001b[0m\u001b[0;34m\u001b[0m\u001b[0;34m\u001b[0m\u001b[0m\n\u001b[1;32m   1343\u001b[0m                 \u001b[0;32mbreak\u001b[0m\u001b[0;34m\u001b[0m\u001b[0;34m\u001b[0m\u001b[0m\n\u001b[0;32m-> 1344\u001b[0;31m             \u001b[0;32mreturn\u001b[0m \u001b[0mself\u001b[0m\u001b[0;34m.\u001b[0m\u001b[0m__extract_info\u001b[0m\u001b[0;34m(\u001b[0m\u001b[0murl\u001b[0m\u001b[0;34m,\u001b[0m \u001b[0mself\u001b[0m\u001b[0;34m.\u001b[0m\u001b[0mget_info_extractor\u001b[0m\u001b[0;34m(\u001b[0m\u001b[0mie_key\u001b[0m\u001b[0;34m)\u001b[0m\u001b[0;34m,\u001b[0m \u001b[0mdownload\u001b[0m\u001b[0;34m,\u001b[0m \u001b[0mextra_info\u001b[0m\u001b[0;34m,\u001b[0m \u001b[0mprocess\u001b[0m\u001b[0;34m)\u001b[0m\u001b[0;34m\u001b[0m\u001b[0;34m\u001b[0m\u001b[0m\n\u001b[0m\u001b[1;32m   1345\u001b[0m         \u001b[0;32melse\u001b[0m\u001b[0;34m:\u001b[0m\u001b[0;34m\u001b[0m\u001b[0;34m\u001b[0m\u001b[0m\n\u001b[1;32m   1346\u001b[0m             \u001b[0mself\u001b[0m\u001b[0;34m.\u001b[0m\u001b[0mreport_error\u001b[0m\u001b[0;34m(\u001b[0m\u001b[0;34m'no suitable InfoExtractor for URL %s'\u001b[0m \u001b[0;34m%\u001b[0m \u001b[0murl\u001b[0m\u001b[0;34m)\u001b[0m\u001b[0;34m\u001b[0m\u001b[0;34m\u001b[0m\u001b[0m\n",
            "\u001b[0;32m/usr/local/lib/python3.7/dist-packages/yt_dlp/YoutubeDL.py\u001b[0m in \u001b[0;36mwrapper\u001b[0;34m(self, *args, **kwargs)\u001b[0m\n\u001b[1;32m   1351\u001b[0m             \u001b[0;32mwhile\u001b[0m \u001b[0;32mTrue\u001b[0m\u001b[0;34m:\u001b[0m\u001b[0;34m\u001b[0m\u001b[0;34m\u001b[0m\u001b[0m\n\u001b[1;32m   1352\u001b[0m                 \u001b[0;32mtry\u001b[0m\u001b[0;34m:\u001b[0m\u001b[0;34m\u001b[0m\u001b[0;34m\u001b[0m\u001b[0m\n\u001b[0;32m-> 1353\u001b[0;31m                     \u001b[0;32mreturn\u001b[0m \u001b[0mfunc\u001b[0m\u001b[0;34m(\u001b[0m\u001b[0mself\u001b[0m\u001b[0;34m,\u001b[0m \u001b[0;34m*\u001b[0m\u001b[0margs\u001b[0m\u001b[0;34m,\u001b[0m \u001b[0;34m**\u001b[0m\u001b[0mkwargs\u001b[0m\u001b[0;34m)\u001b[0m\u001b[0;34m\u001b[0m\u001b[0;34m\u001b[0m\u001b[0m\n\u001b[0m\u001b[1;32m   1354\u001b[0m                 \u001b[0;32mexcept\u001b[0m \u001b[0;34m(\u001b[0m\u001b[0mDownloadCancelled\u001b[0m\u001b[0;34m,\u001b[0m \u001b[0mLazyList\u001b[0m\u001b[0;34m.\u001b[0m\u001b[0mIndexError\u001b[0m\u001b[0;34m,\u001b[0m \u001b[0mPagedList\u001b[0m\u001b[0;34m.\u001b[0m\u001b[0mIndexError\u001b[0m\u001b[0;34m)\u001b[0m\u001b[0;34m:\u001b[0m\u001b[0;34m\u001b[0m\u001b[0;34m\u001b[0m\u001b[0m\n\u001b[1;32m   1355\u001b[0m                     \u001b[0;32mraise\u001b[0m\u001b[0;34m\u001b[0m\u001b[0;34m\u001b[0m\u001b[0m\n",
            "\u001b[0;32m/usr/local/lib/python3.7/dist-packages/yt_dlp/YoutubeDL.py\u001b[0m in \u001b[0;36m__extract_info\u001b[0;34m(self, url, ie, download, extra_info, process)\u001b[0m\n\u001b[1;32m   1435\u001b[0m         \u001b[0;32mif\u001b[0m \u001b[0mprocess\u001b[0m\u001b[0;34m:\u001b[0m\u001b[0;34m\u001b[0m\u001b[0;34m\u001b[0m\u001b[0m\n\u001b[1;32m   1436\u001b[0m             \u001b[0mself\u001b[0m\u001b[0;34m.\u001b[0m\u001b[0m_wait_for_video\u001b[0m\u001b[0;34m(\u001b[0m\u001b[0mie_result\u001b[0m\u001b[0;34m)\u001b[0m\u001b[0;34m\u001b[0m\u001b[0;34m\u001b[0m\u001b[0m\n\u001b[0;32m-> 1437\u001b[0;31m             \u001b[0;32mreturn\u001b[0m \u001b[0mself\u001b[0m\u001b[0;34m.\u001b[0m\u001b[0mprocess_ie_result\u001b[0m\u001b[0;34m(\u001b[0m\u001b[0mie_result\u001b[0m\u001b[0;34m,\u001b[0m \u001b[0mdownload\u001b[0m\u001b[0;34m,\u001b[0m \u001b[0mextra_info\u001b[0m\u001b[0;34m)\u001b[0m\u001b[0;34m\u001b[0m\u001b[0;34m\u001b[0m\u001b[0m\n\u001b[0m\u001b[1;32m   1438\u001b[0m         \u001b[0;32melse\u001b[0m\u001b[0;34m:\u001b[0m\u001b[0;34m\u001b[0m\u001b[0;34m\u001b[0m\u001b[0m\n\u001b[1;32m   1439\u001b[0m             \u001b[0;32mreturn\u001b[0m \u001b[0mie_result\u001b[0m\u001b[0;34m\u001b[0m\u001b[0;34m\u001b[0m\u001b[0m\n",
            "\u001b[0;32m/usr/local/lib/python3.7/dist-packages/yt_dlp/YoutubeDL.py\u001b[0m in \u001b[0;36mprocess_ie_result\u001b[0;34m(self, ie_result, download, extra_info)\u001b[0m\n\u001b[1;32m   1555\u001b[0m             \u001b[0mself\u001b[0m\u001b[0;34m.\u001b[0m\u001b[0m_sanitize_thumbnails\u001b[0m\u001b[0;34m(\u001b[0m\u001b[0mie_result\u001b[0m\u001b[0;34m)\u001b[0m\u001b[0;34m\u001b[0m\u001b[0;34m\u001b[0m\u001b[0m\n\u001b[1;32m   1556\u001b[0m             \u001b[0;32mtry\u001b[0m\u001b[0;34m:\u001b[0m\u001b[0;34m\u001b[0m\u001b[0;34m\u001b[0m\u001b[0m\n\u001b[0;32m-> 1557\u001b[0;31m                 \u001b[0;32mreturn\u001b[0m \u001b[0mself\u001b[0m\u001b[0;34m.\u001b[0m\u001b[0m__process_playlist\u001b[0m\u001b[0;34m(\u001b[0m\u001b[0mie_result\u001b[0m\u001b[0;34m,\u001b[0m \u001b[0mdownload\u001b[0m\u001b[0;34m)\u001b[0m\u001b[0;34m\u001b[0m\u001b[0;34m\u001b[0m\u001b[0m\n\u001b[0m\u001b[1;32m   1558\u001b[0m             \u001b[0;32mfinally\u001b[0m\u001b[0;34m:\u001b[0m\u001b[0;34m\u001b[0m\u001b[0;34m\u001b[0m\u001b[0m\n\u001b[1;32m   1559\u001b[0m                 \u001b[0mself\u001b[0m\u001b[0;34m.\u001b[0m\u001b[0m_playlist_level\u001b[0m \u001b[0;34m-=\u001b[0m \u001b[0;36m1\u001b[0m\u001b[0;34m\u001b[0m\u001b[0;34m\u001b[0m\u001b[0m\n",
            "\u001b[0;32m/usr/local/lib/python3.7/dist-packages/yt_dlp/YoutubeDL.py\u001b[0m in \u001b[0;36m__process_playlist\u001b[0;34m(self, ie_result, download)\u001b[0m\n\u001b[1;32m   1739\u001b[0m                 \u001b[0;32mcontinue\u001b[0m\u001b[0;34m\u001b[0m\u001b[0;34m\u001b[0m\u001b[0m\n\u001b[1;32m   1740\u001b[0m \u001b[0;34m\u001b[0m\u001b[0m\n\u001b[0;32m-> 1741\u001b[0;31m             \u001b[0mentry_result\u001b[0m \u001b[0;34m=\u001b[0m \u001b[0mself\u001b[0m\u001b[0;34m.\u001b[0m\u001b[0m__process_iterable_entry\u001b[0m\u001b[0;34m(\u001b[0m\u001b[0mentry\u001b[0m\u001b[0;34m,\u001b[0m \u001b[0mdownload\u001b[0m\u001b[0;34m,\u001b[0m \u001b[0mextra\u001b[0m\u001b[0;34m)\u001b[0m\u001b[0;34m\u001b[0m\u001b[0;34m\u001b[0m\u001b[0m\n\u001b[0m\u001b[1;32m   1742\u001b[0m             \u001b[0;32mif\u001b[0m \u001b[0;32mnot\u001b[0m \u001b[0mentry_result\u001b[0m\u001b[0;34m:\u001b[0m\u001b[0;34m\u001b[0m\u001b[0;34m\u001b[0m\u001b[0m\n\u001b[1;32m   1743\u001b[0m                 \u001b[0mfailures\u001b[0m \u001b[0;34m+=\u001b[0m \u001b[0;36m1\u001b[0m\u001b[0;34m\u001b[0m\u001b[0;34m\u001b[0m\u001b[0m\n",
            "\u001b[0;32m/usr/local/lib/python3.7/dist-packages/yt_dlp/YoutubeDL.py\u001b[0m in \u001b[0;36mwrapper\u001b[0;34m(self, *args, **kwargs)\u001b[0m\n\u001b[1;32m   1351\u001b[0m             \u001b[0;32mwhile\u001b[0m \u001b[0;32mTrue\u001b[0m\u001b[0;34m:\u001b[0m\u001b[0;34m\u001b[0m\u001b[0;34m\u001b[0m\u001b[0m\n\u001b[1;32m   1352\u001b[0m                 \u001b[0;32mtry\u001b[0m\u001b[0;34m:\u001b[0m\u001b[0;34m\u001b[0m\u001b[0;34m\u001b[0m\u001b[0m\n\u001b[0;32m-> 1353\u001b[0;31m                     \u001b[0;32mreturn\u001b[0m \u001b[0mfunc\u001b[0m\u001b[0;34m(\u001b[0m\u001b[0mself\u001b[0m\u001b[0;34m,\u001b[0m \u001b[0;34m*\u001b[0m\u001b[0margs\u001b[0m\u001b[0;34m,\u001b[0m \u001b[0;34m**\u001b[0m\u001b[0mkwargs\u001b[0m\u001b[0;34m)\u001b[0m\u001b[0;34m\u001b[0m\u001b[0;34m\u001b[0m\u001b[0m\n\u001b[0m\u001b[1;32m   1354\u001b[0m                 \u001b[0;32mexcept\u001b[0m \u001b[0;34m(\u001b[0m\u001b[0mDownloadCancelled\u001b[0m\u001b[0;34m,\u001b[0m \u001b[0mLazyList\u001b[0m\u001b[0;34m.\u001b[0m\u001b[0mIndexError\u001b[0m\u001b[0;34m,\u001b[0m \u001b[0mPagedList\u001b[0m\u001b[0;34m.\u001b[0m\u001b[0mIndexError\u001b[0m\u001b[0;34m)\u001b[0m\u001b[0;34m:\u001b[0m\u001b[0;34m\u001b[0m\u001b[0;34m\u001b[0m\u001b[0m\n\u001b[1;32m   1355\u001b[0m                     \u001b[0;32mraise\u001b[0m\u001b[0;34m\u001b[0m\u001b[0;34m\u001b[0m\u001b[0m\n",
            "\u001b[0;32m/usr/local/lib/python3.7/dist-packages/yt_dlp/YoutubeDL.py\u001b[0m in \u001b[0;36m__process_iterable_entry\u001b[0;34m(self, entry, download, extra_info)\u001b[0m\n\u001b[1;32m   1760\u001b[0m     \u001b[0;32mdef\u001b[0m \u001b[0m__process_iterable_entry\u001b[0m\u001b[0;34m(\u001b[0m\u001b[0mself\u001b[0m\u001b[0;34m,\u001b[0m \u001b[0mentry\u001b[0m\u001b[0;34m,\u001b[0m \u001b[0mdownload\u001b[0m\u001b[0;34m,\u001b[0m \u001b[0mextra_info\u001b[0m\u001b[0;34m)\u001b[0m\u001b[0;34m:\u001b[0m\u001b[0;34m\u001b[0m\u001b[0;34m\u001b[0m\u001b[0m\n\u001b[1;32m   1761\u001b[0m         return self.process_ie_result(\n\u001b[0;32m-> 1762\u001b[0;31m             entry, download=download, extra_info=extra_info)\n\u001b[0m\u001b[1;32m   1763\u001b[0m \u001b[0;34m\u001b[0m\u001b[0m\n\u001b[1;32m   1764\u001b[0m     \u001b[0;32mdef\u001b[0m \u001b[0m_build_format_filter\u001b[0m\u001b[0;34m(\u001b[0m\u001b[0mself\u001b[0m\u001b[0;34m,\u001b[0m \u001b[0mfilter_spec\u001b[0m\u001b[0;34m)\u001b[0m\u001b[0;34m:\u001b[0m\u001b[0;34m\u001b[0m\u001b[0;34m\u001b[0m\u001b[0m\n",
            "\u001b[0;32m/usr/local/lib/python3.7/dist-packages/yt_dlp/YoutubeDL.py\u001b[0m in \u001b[0;36mprocess_ie_result\u001b[0;34m(self, ie_result, download, extra_info)\u001b[0m\n\u001b[1;32m   1509\u001b[0m                 \u001b[0mie_result\u001b[0m\u001b[0;34m[\u001b[0m\u001b[0;34m'url'\u001b[0m\u001b[0;34m]\u001b[0m\u001b[0;34m,\u001b[0m \u001b[0mdownload\u001b[0m\u001b[0;34m,\u001b[0m\u001b[0;34m\u001b[0m\u001b[0;34m\u001b[0m\u001b[0m\n\u001b[1;32m   1510\u001b[0m                 \u001b[0mie_key\u001b[0m\u001b[0;34m=\u001b[0m\u001b[0mie_result\u001b[0m\u001b[0;34m.\u001b[0m\u001b[0mget\u001b[0m\u001b[0;34m(\u001b[0m\u001b[0;34m'ie_key'\u001b[0m\u001b[0;34m)\u001b[0m\u001b[0;34m,\u001b[0m\u001b[0;34m\u001b[0m\u001b[0;34m\u001b[0m\u001b[0m\n\u001b[0;32m-> 1511\u001b[0;31m                 extra_info=extra_info)\n\u001b[0m\u001b[1;32m   1512\u001b[0m         \u001b[0;32melif\u001b[0m \u001b[0mresult_type\u001b[0m \u001b[0;34m==\u001b[0m \u001b[0;34m'url_transparent'\u001b[0m\u001b[0;34m:\u001b[0m\u001b[0;34m\u001b[0m\u001b[0;34m\u001b[0m\u001b[0m\n\u001b[1;32m   1513\u001b[0m             \u001b[0;31m# Use the information from the embedding page\u001b[0m\u001b[0;34m\u001b[0m\u001b[0;34m\u001b[0m\u001b[0;34m\u001b[0m\u001b[0m\n",
            "\u001b[0;32m/usr/local/lib/python3.7/dist-packages/yt_dlp/YoutubeDL.py\u001b[0m in \u001b[0;36mextract_info\u001b[0;34m(self, url, download, ie_key, extra_info, process, force_generic_extractor)\u001b[0m\n\u001b[1;32m   1342\u001b[0m                     \u001b[0;32mraise\u001b[0m \u001b[0mExistingVideoReached\u001b[0m\u001b[0;34m(\u001b[0m\u001b[0;34m)\u001b[0m\u001b[0;34m\u001b[0m\u001b[0;34m\u001b[0m\u001b[0m\n\u001b[1;32m   1343\u001b[0m                 \u001b[0;32mbreak\u001b[0m\u001b[0;34m\u001b[0m\u001b[0;34m\u001b[0m\u001b[0m\n\u001b[0;32m-> 1344\u001b[0;31m             \u001b[0;32mreturn\u001b[0m \u001b[0mself\u001b[0m\u001b[0;34m.\u001b[0m\u001b[0m__extract_info\u001b[0m\u001b[0;34m(\u001b[0m\u001b[0murl\u001b[0m\u001b[0;34m,\u001b[0m \u001b[0mself\u001b[0m\u001b[0;34m.\u001b[0m\u001b[0mget_info_extractor\u001b[0m\u001b[0;34m(\u001b[0m\u001b[0mie_key\u001b[0m\u001b[0;34m)\u001b[0m\u001b[0;34m,\u001b[0m \u001b[0mdownload\u001b[0m\u001b[0;34m,\u001b[0m \u001b[0mextra_info\u001b[0m\u001b[0;34m,\u001b[0m \u001b[0mprocess\u001b[0m\u001b[0;34m)\u001b[0m\u001b[0;34m\u001b[0m\u001b[0;34m\u001b[0m\u001b[0m\n\u001b[0m\u001b[1;32m   1345\u001b[0m         \u001b[0;32melse\u001b[0m\u001b[0;34m:\u001b[0m\u001b[0;34m\u001b[0m\u001b[0;34m\u001b[0m\u001b[0m\n\u001b[1;32m   1346\u001b[0m             \u001b[0mself\u001b[0m\u001b[0;34m.\u001b[0m\u001b[0mreport_error\u001b[0m\u001b[0;34m(\u001b[0m\u001b[0;34m'no suitable InfoExtractor for URL %s'\u001b[0m \u001b[0;34m%\u001b[0m \u001b[0murl\u001b[0m\u001b[0;34m)\u001b[0m\u001b[0;34m\u001b[0m\u001b[0;34m\u001b[0m\u001b[0m\n",
            "\u001b[0;32m/usr/local/lib/python3.7/dist-packages/yt_dlp/YoutubeDL.py\u001b[0m in \u001b[0;36mwrapper\u001b[0;34m(self, *args, **kwargs)\u001b[0m\n\u001b[1;32m   1369\u001b[0m                     \u001b[0mself\u001b[0m\u001b[0;34m.\u001b[0m\u001b[0mreport_error\u001b[0m\u001b[0;34m(\u001b[0m\u001b[0mmsg\u001b[0m\u001b[0;34m)\u001b[0m\u001b[0;34m\u001b[0m\u001b[0;34m\u001b[0m\u001b[0m\n\u001b[1;32m   1370\u001b[0m                 \u001b[0;32mexcept\u001b[0m \u001b[0mExtractorError\u001b[0m \u001b[0;32mas\u001b[0m \u001b[0me\u001b[0m\u001b[0;34m:\u001b[0m  \u001b[0;31m# An error we somewhat expected\u001b[0m\u001b[0;34m\u001b[0m\u001b[0;34m\u001b[0m\u001b[0m\n\u001b[0;32m-> 1371\u001b[0;31m                     \u001b[0mself\u001b[0m\u001b[0;34m.\u001b[0m\u001b[0mreport_error\u001b[0m\u001b[0;34m(\u001b[0m\u001b[0mstr\u001b[0m\u001b[0;34m(\u001b[0m\u001b[0me\u001b[0m\u001b[0;34m)\u001b[0m\u001b[0;34m,\u001b[0m \u001b[0me\u001b[0m\u001b[0;34m.\u001b[0m\u001b[0mformat_traceback\u001b[0m\u001b[0;34m(\u001b[0m\u001b[0;34m)\u001b[0m\u001b[0;34m)\u001b[0m\u001b[0;34m\u001b[0m\u001b[0;34m\u001b[0m\u001b[0m\n\u001b[0m\u001b[1;32m   1372\u001b[0m                 \u001b[0;32mexcept\u001b[0m \u001b[0mException\u001b[0m \u001b[0;32mas\u001b[0m \u001b[0me\u001b[0m\u001b[0;34m:\u001b[0m\u001b[0;34m\u001b[0m\u001b[0;34m\u001b[0m\u001b[0m\n\u001b[1;32m   1373\u001b[0m                     \u001b[0;32mif\u001b[0m \u001b[0mself\u001b[0m\u001b[0;34m.\u001b[0m\u001b[0mparams\u001b[0m\u001b[0;34m.\u001b[0m\u001b[0mget\u001b[0m\u001b[0;34m(\u001b[0m\u001b[0;34m'ignoreerrors'\u001b[0m\u001b[0;34m)\u001b[0m\u001b[0;34m:\u001b[0m\u001b[0;34m\u001b[0m\u001b[0;34m\u001b[0m\u001b[0m\n",
            "\u001b[0;32m/usr/local/lib/python3.7/dist-packages/yt_dlp/YoutubeDL.py\u001b[0m in \u001b[0;36mreport_error\u001b[0;34m(self, message, *args, **kwargs)\u001b[0m\n\u001b[1;32m    910\u001b[0m         \u001b[0;32min\u001b[0m \u001b[0mred\u001b[0m \u001b[0;32mif\u001b[0m \u001b[0mstderr\u001b[0m \u001b[0;32mis\u001b[0m \u001b[0ma\u001b[0m \u001b[0mtty\u001b[0m \u001b[0mfile\u001b[0m\u001b[0;34m.\u001b[0m\u001b[0;34m\u001b[0m\u001b[0;34m\u001b[0m\u001b[0m\n\u001b[1;32m    911\u001b[0m         '''\n\u001b[0;32m--> 912\u001b[0;31m         \u001b[0mself\u001b[0m\u001b[0;34m.\u001b[0m\u001b[0mtrouble\u001b[0m\u001b[0;34m(\u001b[0m\u001b[0;34mf'{self._format_err(\"ERROR:\", self.Styles.ERROR)} {message}'\u001b[0m\u001b[0;34m,\u001b[0m \u001b[0;34m*\u001b[0m\u001b[0margs\u001b[0m\u001b[0;34m,\u001b[0m \u001b[0;34m**\u001b[0m\u001b[0mkwargs\u001b[0m\u001b[0;34m)\u001b[0m\u001b[0;34m\u001b[0m\u001b[0;34m\u001b[0m\u001b[0m\n\u001b[0m\u001b[1;32m    913\u001b[0m \u001b[0;34m\u001b[0m\u001b[0m\n\u001b[1;32m    914\u001b[0m     \u001b[0;32mdef\u001b[0m \u001b[0mwrite_debug\u001b[0m\u001b[0;34m(\u001b[0m\u001b[0mself\u001b[0m\u001b[0;34m,\u001b[0m \u001b[0mmessage\u001b[0m\u001b[0;34m,\u001b[0m \u001b[0monly_once\u001b[0m\u001b[0;34m=\u001b[0m\u001b[0;32mFalse\u001b[0m\u001b[0;34m)\u001b[0m\u001b[0;34m:\u001b[0m\u001b[0;34m\u001b[0m\u001b[0;34m\u001b[0m\u001b[0m\n",
            "\u001b[0;32m/usr/local/lib/python3.7/dist-packages/yt_dlp/YoutubeDL.py\u001b[0m in \u001b[0;36mtrouble\u001b[0;34m(self, message, tb, is_error)\u001b[0m\n\u001b[1;32m    851\u001b[0m             \u001b[0;32melse\u001b[0m\u001b[0;34m:\u001b[0m\u001b[0;34m\u001b[0m\u001b[0;34m\u001b[0m\u001b[0m\n\u001b[1;32m    852\u001b[0m                 \u001b[0mexc_info\u001b[0m \u001b[0;34m=\u001b[0m \u001b[0msys\u001b[0m\u001b[0;34m.\u001b[0m\u001b[0mexc_info\u001b[0m\u001b[0;34m(\u001b[0m\u001b[0;34m)\u001b[0m\u001b[0;34m\u001b[0m\u001b[0;34m\u001b[0m\u001b[0m\n\u001b[0;32m--> 853\u001b[0;31m             \u001b[0;32mraise\u001b[0m \u001b[0mDownloadError\u001b[0m\u001b[0;34m(\u001b[0m\u001b[0mmessage\u001b[0m\u001b[0;34m,\u001b[0m \u001b[0mexc_info\u001b[0m\u001b[0;34m)\u001b[0m\u001b[0;34m\u001b[0m\u001b[0;34m\u001b[0m\u001b[0m\n\u001b[0m\u001b[1;32m    854\u001b[0m         \u001b[0mself\u001b[0m\u001b[0;34m.\u001b[0m\u001b[0m_download_retcode\u001b[0m \u001b[0;34m=\u001b[0m \u001b[0;36m1\u001b[0m\u001b[0;34m\u001b[0m\u001b[0;34m\u001b[0m\u001b[0m\n\u001b[1;32m    855\u001b[0m \u001b[0;34m\u001b[0m\u001b[0m\n",
            "\u001b[0;31mDownloadError\u001b[0m: ERROR: [youtube] SE6TrscM2zg: Private video. Sign in if you've been granted access to this video"
          ]
        }
      ]
    },
    {
      "cell_type": "code",
      "source": [
        "import webvtt\n",
        "import pandas as pd\n",
        "import os"
      ],
      "metadata": {
        "id": "YvCL_63J0UiI"
      },
      "execution_count": 7,
      "outputs": []
    },
    {
      "cell_type": "code",
      "source": [
        "filenames_vtt = [os.fsdecode(file) for file in os.listdir(os.getcwd()) if os.fsdecode(file).endswith(\".vtt\")]\n",
        "\n",
        "def convert_vtt(filenames):    \n",
        "    #create an assets folder if one does not yet exist\n",
        "    if os.path.isdir('{}/assets'.format(os.getcwd())) == False:\n",
        "        os.makedirs('assets')\n",
        "    #extract the text and times from the vtt file\n",
        "    for file in filenames:\n",
        "        captions = webvtt.read(file)\n",
        "        text_time = pd.DataFrame()\n",
        "        text_time['text'] = [caption.text for caption in captions]\n",
        "        text_time['start'] = [caption.start for caption in captions]\n",
        "        text_time['stop'] = [caption.end for caption in captions]\n",
        "\n",
        "        text_time.to_csv('assets/{}.csv'.format(file[:-4]),index=False) #-4 to remove '.vtt'\n",
        "        #remove files from local drive\n",
        "        os.remove(file)\n",
        "\n",
        "#call the function\n",
        "convert_vtt(filenames_vtt)"
      ],
      "metadata": {
        "id": "uhXpXrg0aLtV"
      },
      "execution_count": 42,
      "outputs": []
    },
    {
      "cell_type": "code",
      "source": [
        "csv_files = [os.fsdecode(file) for file in os.listdir(os.getcwd()+'/assets') if os.fsdecode(file).endswith('.csv')]\n",
        "path = 'assets/'\n",
        "\n",
        "def neat_csv(filecsv):\n",
        "  for filename in csv_files:\n",
        "    os.rename(os.path.join(path, filename), os.path.join(path, filename.replace(' ', ''))) #get rid of the white space\n",
        "  \n",
        "  clean_csv = [os.fsdecode(file) for file in os.listdir(os.getcwd()+'/assets')]\n",
        "\n",
        "  #extract the text and videoid\n",
        "  vidText = []\n",
        "  csv_vidid = []\n",
        "\n",
        "  for file in clean_csv:\n",
        "    df = pd.read_csv(path+file)\n",
        "    text = \" \".join(df.text)\n",
        "    vidText.append(text)\n",
        "    csv_vidid.append(file[-18:-7])\n",
        "\n",
        "  vid_df = pd.DataFrame()\n",
        "  vid_df['vid_title'] = clean_csv\n",
        "  vid_df['vid_text'] = vidText\n",
        "  vid_df['vid_id'] = csv_vidid\n",
        "\n",
        "  return vid_df"
      ],
      "metadata": {
        "id": "c4miIuGC0lfp"
      },
      "execution_count": 44,
      "outputs": []
    },
    {
      "cell_type": "code",
      "source": [
        "shark_tank = neat_csv(csv_files)\n",
        "shark_tank.head()"
      ],
      "metadata": {
        "colab": {
          "base_uri": "https://localhost:8080/",
          "height": 206
        },
        "id": "U8o_8JPGeWcs",
        "outputId": "4fbf7e58-1578-437a-d47a-503d8acb8dcc"
      },
      "execution_count": 45,
      "outputs": [
        {
          "output_type": "execute_result",
          "data": {
            "text/html": [
              "\n",
              "  <div id=\"df-dd7141a0-b562-4b4f-a9a2-bf10c89d131a\">\n",
              "    <div class=\"colab-df-container\">\n",
              "      <div>\n",
              "<style scoped>\n",
              "    .dataframe tbody tr th:only-of-type {\n",
              "        vertical-align: middle;\n",
              "    }\n",
              "\n",
              "    .dataframe tbody tr th {\n",
              "        vertical-align: top;\n",
              "    }\n",
              "\n",
              "    .dataframe thead th {\n",
              "        text-align: right;\n",
              "    }\n",
              "</style>\n",
              "<table border=\"1\" class=\"dataframe\">\n",
              "  <thead>\n",
              "    <tr style=\"text-align: right;\">\n",
              "      <th></th>\n",
              "      <th>vid_title</th>\n",
              "      <th>vid_text</th>\n",
              "      <th>vid_id</th>\n",
              "    </tr>\n",
              "  </thead>\n",
              "  <tbody>\n",
              "    <tr>\n",
              "      <th>0</th>\n",
              "      <td>SharkTankUS_SharksAreShockedat13-Year-OldEntre...</td>\n",
              "      <td>\\noh my goodness i can't believe that i'm oh ...</td>\n",
              "      <td>GqOFKtqT7w]</td>\n",
              "    </tr>\n",
              "    <tr>\n",
              "      <th>1</th>\n",
              "      <td>SharkTankUS_FatherandSonDuoPitchTheir'TouchUpC...</td>\n",
              "      <td>\\nfirst into the tank is an innovative first ...</td>\n",
              "      <td>0mfuIbkxFU]</td>\n",
              "    </tr>\n",
              "    <tr>\n",
              "      <th>2</th>\n",
              "      <td>SharkTankUS_PizzaCupcakeCompanyImpressesLoriGr...</td>\n",
              "      <td>\\n[Music] [Music]\\n  [Music]\\nnext up is an i...</td>\n",
              "      <td>UeLX2xjo0g]</td>\n",
              "    </tr>\n",
              "    <tr>\n",
              "      <th>3</th>\n",
              "      <td>SharkTankUS_WillThisToiletTimerImpressTheShark...</td>\n",
              "      <td>\\nnext into the tank is a perfect gift for ne...</td>\n",
              "      <td>Tc2JU2nfR4]</td>\n",
              "    </tr>\n",
              "    <tr>\n",
              "      <th>4</th>\n",
              "      <td>SharkTankUS_KevinRetractsHisOfferAfterFlipstik...</td>\n",
              "      <td>\\nnext up is a simple product using a next up...</td>\n",
              "      <td>JO3kI8D974]</td>\n",
              "    </tr>\n",
              "  </tbody>\n",
              "</table>\n",
              "</div>\n",
              "      <button class=\"colab-df-convert\" onclick=\"convertToInteractive('df-dd7141a0-b562-4b4f-a9a2-bf10c89d131a')\"\n",
              "              title=\"Convert this dataframe to an interactive table.\"\n",
              "              style=\"display:none;\">\n",
              "        \n",
              "  <svg xmlns=\"http://www.w3.org/2000/svg\" height=\"24px\"viewBox=\"0 0 24 24\"\n",
              "       width=\"24px\">\n",
              "    <path d=\"M0 0h24v24H0V0z\" fill=\"none\"/>\n",
              "    <path d=\"M18.56 5.44l.94 2.06.94-2.06 2.06-.94-2.06-.94-.94-2.06-.94 2.06-2.06.94zm-11 1L8.5 8.5l.94-2.06 2.06-.94-2.06-.94L8.5 2.5l-.94 2.06-2.06.94zm10 10l.94 2.06.94-2.06 2.06-.94-2.06-.94-.94-2.06-.94 2.06-2.06.94z\"/><path d=\"M17.41 7.96l-1.37-1.37c-.4-.4-.92-.59-1.43-.59-.52 0-1.04.2-1.43.59L10.3 9.45l-7.72 7.72c-.78.78-.78 2.05 0 2.83L4 21.41c.39.39.9.59 1.41.59.51 0 1.02-.2 1.41-.59l7.78-7.78 2.81-2.81c.8-.78.8-2.07 0-2.86zM5.41 20L4 18.59l7.72-7.72 1.47 1.35L5.41 20z\"/>\n",
              "  </svg>\n",
              "      </button>\n",
              "      \n",
              "  <style>\n",
              "    .colab-df-container {\n",
              "      display:flex;\n",
              "      flex-wrap:wrap;\n",
              "      gap: 12px;\n",
              "    }\n",
              "\n",
              "    .colab-df-convert {\n",
              "      background-color: #E8F0FE;\n",
              "      border: none;\n",
              "      border-radius: 50%;\n",
              "      cursor: pointer;\n",
              "      display: none;\n",
              "      fill: #1967D2;\n",
              "      height: 32px;\n",
              "      padding: 0 0 0 0;\n",
              "      width: 32px;\n",
              "    }\n",
              "\n",
              "    .colab-df-convert:hover {\n",
              "      background-color: #E2EBFA;\n",
              "      box-shadow: 0px 1px 2px rgba(60, 64, 67, 0.3), 0px 1px 3px 1px rgba(60, 64, 67, 0.15);\n",
              "      fill: #174EA6;\n",
              "    }\n",
              "\n",
              "    [theme=dark] .colab-df-convert {\n",
              "      background-color: #3B4455;\n",
              "      fill: #D2E3FC;\n",
              "    }\n",
              "\n",
              "    [theme=dark] .colab-df-convert:hover {\n",
              "      background-color: #434B5C;\n",
              "      box-shadow: 0px 1px 3px 1px rgba(0, 0, 0, 0.15);\n",
              "      filter: drop-shadow(0px 1px 2px rgba(0, 0, 0, 0.3));\n",
              "      fill: #FFFFFF;\n",
              "    }\n",
              "  </style>\n",
              "\n",
              "      <script>\n",
              "        const buttonEl =\n",
              "          document.querySelector('#df-dd7141a0-b562-4b4f-a9a2-bf10c89d131a button.colab-df-convert');\n",
              "        buttonEl.style.display =\n",
              "          google.colab.kernel.accessAllowed ? 'block' : 'none';\n",
              "\n",
              "        async function convertToInteractive(key) {\n",
              "          const element = document.querySelector('#df-dd7141a0-b562-4b4f-a9a2-bf10c89d131a');\n",
              "          const dataTable =\n",
              "            await google.colab.kernel.invokeFunction('convertToInteractive',\n",
              "                                                     [key], {});\n",
              "          if (!dataTable) return;\n",
              "\n",
              "          const docLinkHtml = 'Like what you see? Visit the ' +\n",
              "            '<a target=\"_blank\" href=https://colab.research.google.com/notebooks/data_table.ipynb>data table notebook</a>'\n",
              "            + ' to learn more about interactive tables.';\n",
              "          element.innerHTML = '';\n",
              "          dataTable['output_type'] = 'display_data';\n",
              "          await google.colab.output.renderOutput(dataTable, element);\n",
              "          const docLink = document.createElement('div');\n",
              "          docLink.innerHTML = docLinkHtml;\n",
              "          element.appendChild(docLink);\n",
              "        }\n",
              "      </script>\n",
              "    </div>\n",
              "  </div>\n",
              "  "
            ],
            "text/plain": [
              "                                           vid_title  ...       vid_id\n",
              "0  SharkTankUS_SharksAreShockedat13-Year-OldEntre...  ...  GqOFKtqT7w]\n",
              "1  SharkTankUS_FatherandSonDuoPitchTheir'TouchUpC...  ...  0mfuIbkxFU]\n",
              "2  SharkTankUS_PizzaCupcakeCompanyImpressesLoriGr...  ...  UeLX2xjo0g]\n",
              "3  SharkTankUS_WillThisToiletTimerImpressTheShark...  ...  Tc2JU2nfR4]\n",
              "4  SharkTankUS_KevinRetractsHisOfferAfterFlipstik...  ...  JO3kI8D974]\n",
              "\n",
              "[5 rows x 3 columns]"
            ]
          },
          "metadata": {},
          "execution_count": 45
        }
      ]
    },
    {
      "cell_type": "code",
      "source": [
        "shark_tank['vid_text'][0]"
      ],
      "metadata": {
        "colab": {
          "base_uri": "https://localhost:8080/",
          "height": 140
        },
        "id": "8RryqY0wfKej",
        "outputId": "ffbebe27-04bb-4c83-a9bc-a251b45d88a1"
      },
      "execution_count": 46,
      "outputs": [
        {
          "output_type": "execute_result",
          "data": {
            "application/vnd.google.colaboratory.intrinsic+json": {
              "type": "string"
            },
            "text/plain": [
              "\" \\noh my goodness i can't believe that i'm oh my goodness i can't believe that i'm\\n  oh my goodness i can't believe that i'm\\ndoing this  \\n   \\ntrick with social anxiety about to go trick with social anxiety about to go\\n  trick with social anxiety about to go\\ntalk to a couple of billionaire talk to a couple of billionaire\\n  talk to a couple of billionaire\\nmillionaires millionaires\\n  millionaires\\n[Music] [Music]\\n  [Music]\\n[Applause] [Applause]\\n  [Applause]\\nfirst in the tank is a stylish and first in the tank is a stylish and\\n  first in the tank is a stylish and\\nfunctional accessory functional accessory\\n  functional accessory\\n[Music]  \\n   \\nhi hi\\n  hi\\ni'm sophie overton i'm from bentonville i'm sophie overton i'm from bentonville\\n  i'm sophie overton i'm from bentonville\\narkansas and i'm seeking 30 000 for 15 arkansas and i'm seeking 30 000 for 15\\n  arkansas and i'm seeking 30 000 for 15\\nequity in my company equity in my company\\n  equity in my company\\nsharks i'm 13 years old and even though sharks i'm 13 years old and even though\\n  sharks i'm 13 years old and even though\\ni'm still in the 8th grade i have a phd i'm still in the 8th grade i have a phd\\n  i'm still in the 8th grade i have a phd\\nin psychology heck i know more about in psychology heck i know more about\\n  in psychology heck i know more about\\nthread counts than i do about the thread counts than i do about the\\n  thread counts than i do about the\\nperiodic table i created a sock for kids periodic table i created a sock for kids\\n  periodic table i created a sock for kids\\nmade by this kid to make life easier for made by this kid to make life easier for\\n  made by this kid to make life easier for\\nwhatever we're doing whatever we're doing\\n  whatever we're doing\\nintroducing wise pocket products introducing wise pocket products\\n  introducing wise pocket products\\nan innovative line of socks and leggings an innovative line of socks and leggings\\n  an innovative line of socks and leggings\\nwith pockets in them big enough for kids with pockets in them big enough for kids\\n  with pockets in them big enough for kids\\nmost important items like your phone so most important items like your phone so\\n  most important items like your phone so\\nyou don't have to worry about the you don't have to worry about the\\n  you don't have to worry about the\\nlife-threatening event of missing a call life-threatening event of missing a call\\n  life-threatening event of missing a call\\nor text from your mom anymore and i know or text from your mom anymore and i know\\n  or text from your mom anymore and i know\\nwhat you're probably thinking there's what you're probably thinking there's\\n  what you're probably thinking there's\\ngot to be tons of socks like this well i got to be tons of socks like this well i\\n  got to be tons of socks like this well i\\ncreated a patent-pending sock design for created a patent-pending sock design for\\n  created a patent-pending sock design for\\nkids to safely stick their important kids to safely stick their important\\n  kids to safely stick their important\\nitems into our sock pockets items into our sock pockets\\n  items into our sock pockets\\nso if you're playing soccer so if you're playing soccer\\n  so if you're playing soccer\\nrock climbing rock climbing\\n  rock climbing\\nor you know spontaneously breaking out or you know spontaneously breaking out\\n  or you know spontaneously breaking out\\ninto dance with your friends wise pocket into dance with your friends wise pocket\\n  into dance with your friends wise pocket\\nproducts has you covered  \\n   \\nwhoa  \\n   \\nnice  \\n   \\n[Music]  \\n   \\noh  \\n   \\nwow wow\\n  wow\\nlove you guys love you guys\\n  love you guys\\njust like my zumba class i just want to just like my zumba class i just want to\\n  just like my zumba class i just want to\\nlet you guys know you're all going to let you guys know you're all going to\\n  let you guys know you're all going to\\nhave arthritis when you get old have arthritis when you get old\\n  have arthritis when you get old\\nso as you can see sharks even after all so as you can see sharks even after all\\n  so as you can see sharks even after all\\nthat our design stock pockets will keep that our design stock pockets will keep\\n  that our design stock pockets will keep\\nyour important items in without falling your important items in without falling\\n  your important items in without falling\\nout out\\n  out\\nand the best part is for every pair of and the best part is for every pair of\\n  and the best part is for every pair of\\nsocks that we sell we donate a pair of socks that we sell we donate a pair of\\n  socks that we sell we donate a pair of\\nsocks to kids in need socks to kids in need\\n  socks to kids in need\\nsharks i know i'm young but give me five sharks i know i'm young but give me five\\n  sharks i know i'm young but give me five\\nyears and i hope i'll be sitting in one years and i hope i'll be sitting in one\\n  years and i hope i'll be sitting in one\\nof those chairs of those chairs\\n  of those chairs\\nso tell me who's wise enough to join me so tell me who's wise enough to join me\\n  so tell me who's wise enough to join me\\nin getting wise pocket products to kids in getting wise pocket products to kids\\n  in getting wise pocket products to kids\\neverywhere thank you for letting me tell everywhere thank you for letting me tell\\n  everywhere thank you for letting me tell\\nyou about wise and thanks guys all right you about wise and thanks guys all right\\n  you about wise and thanks guys all right\\ngood job great good job great\\n  good job great\\nguys guys\\n  guys\\nexcellent excellent excellent you're excellent excellent excellent you're\\n  excellent excellent excellent you're\\ngonna show us some sophie in person here gonna show us some sophie in person here\\n  gonna show us some sophie in person here\\nyeah sure  \\n   \\nhere you go you can here you go you can\\n  here you go you can\\ntake three thank you take three thank you\\n  take three thank you\\n[Music] [Music]\\n  [Music]\\nyou did great thank you you did great thank you\\n  you did great thank you\\nthank you thank you\\n  thank you\\nthank you thank you\\n  thank you\\nnice colors though huh nice colors though huh\\n  nice colors though huh\\nthanks sophie thank you thanks sophie thank you\\n  thanks sophie thank you\\ntell us about you how you got into this tell us about you how you got into this\\n  tell us about you how you got into this\\nbusiness well i got into this business business well i got into this business\\n  business well i got into this business\\nwhen i was 11 and my cousin put her when i was 11 and my cousin put her\\n  when i was 11 and my cousin put her\\nphone in her boot because you know kids phone in her boot because you know kids\\n  phone in her boot because you know kids\\nand women's clothing don't have pockets and women's clothing don't have pockets\\n  and women's clothing don't have pockets\\nso i tried it too and it was really so i tried it too and it was really\\n  so i tried it too and it was really\\nuncomfortable because it slipped down to uncomfortable because it slipped down to\\n  uncomfortable because it slipped down to\\nmy ankle my ankle\\n  my ankle\\nand i couldn't reach it and it was just and i couldn't reach it and it was just\\n  and i couldn't reach it and it was just\\nall in all a bad idea all in all a bad idea\\n  all in all a bad idea\\nand so i asked around my school to see and so i asked around my school to see\\n  and so i asked around my school to see\\nif other kids had this problem and they if other kids had this problem and they\\n  if other kids had this problem and they\\ndid did\\n  did\\nand so i came up with my prototype where and so i came up with my prototype where\\n  and so i came up with my prototype where\\ni cut off the top of another sock i cut off the top of another sock\\n  i cut off the top of another sock\\nand stuck it inside the sock that's cool and stuck it inside the sock that's cool\\n  and stuck it inside the sock that's cool\\nand i sewed it up the sides and and i sewed it up the sides and\\n  and i sewed it up the sides and\\nvoila how did you get your money for the voila how did you get your money for the\\n  voila how did you get your money for the\\nbusiness i save everything that i earn business i save everything that i earn\\n  business i save everything that i earn\\nand i how much money did you actually and i how much money did you actually\\n  and i how much money did you actually\\nput in to make your socks i invested 10 put in to make your socks i invested 10\\n  put in to make your socks i invested 10\\n000 of 000 of\\n  000 of\\nmy own ten thousand ten thousand i think my own ten thousand ten thousand i think\\n  my own ten thousand ten thousand i think\\nyour parents over paid you for your job your parents over paid you for your job\\n  your parents over paid you for your job\\nno uh i had saved five thousand and i no uh i had saved five thousand and i\\n  no uh i had saved five thousand and i\\nearned five thousand more through earned five thousand more through\\n  earned five thousand more through\\nbusiness pitches and competitions nice business pitches and competitions nice\\n  business pitches and competitions nice\\nwow good for you wow good for you\\n  wow good for you\\nhave you been watching shark tank very have you been watching shark tank very\\n  have you been watching shark tank very\\nlong since i was like six years old make long since i was like six years old make\\n  long since i was like six years old make\\nus feel old you know i'd stand up in the us feel old you know i'd stand up in the\\n  us feel old you know i'd stand up in the\\nliving room and say i'm gonna be on living room and say i'm gonna be on\\n  living room and say i'm gonna be on\\nshark tank this has been my goal since shark tank this has been my goal since\\n  shark tank this has been my goal since\\nbefore i even had the idea for the before i even had the idea for the\\n  before i even had the idea for the\\nbusiness business\\n  business\\nhave you sold any of these yet yes how have you sold any of these yet yes how\\n  have you sold any of these yet yes how\\nmuch a little under 16 000 in sales much a little under 16 000 in sales\\n  much a little under 16 000 in sales\\nsophie let me just tell you you're a sophie let me just tell you you're a\\n  sophie let me just tell you you're a\\nperfect example of what every kidpreneur perfect example of what every kidpreneur\\n  perfect example of what every kidpreneur\\nshould do right you got a job you saved should do right you got a job you saved\\n  should do right you got a job you saved\\nup some money you did all the prototypes up some money you did all the prototypes\\n  up some money you did all the prototypes\\nyourself then you made actual products yourself then you made actual products\\n  yourself then you made actual products\\nthen you sold those products sixteen then you sold those products sixteen\\n  then you sold those products sixteen\\nthousand dollars worth of products now thousand dollars worth of products now\\n  thousand dollars worth of products now\\nthe only question is did you sell those the only question is did you sell those\\n  the only question is did you sell those\\nproducts profitably tell us what it cost products profitably tell us what it cost\\n  products profitably tell us what it cost\\nyou to make a sock and what you're you to make a sock and what you're\\n  you to make a sock and what you're\\nselling them for to make the sock it's selling them for to make the sock it's\\n  selling them for to make the sock it's\\n5.47 5.47\\n  5.47\\nbecause that's expensive yes it's because that's expensive yes it's\\n  because that's expensive yes it's\\nbecause of the process to make the because of the process to make the\\n  because of the process to make the\\ndouble welt for my pocket what do you double welt for my pocket what do you\\n  double welt for my pocket what do you\\nsell them for 15 sell them for 15\\n  sell them for 15\\nretail and 11 wholesale what do you want retail and 11 wholesale what do you want\\n  retail and 11 wholesale what do you want\\nwith the 30 000 sofia what are you gonna with the 30 000 sofia what are you gonna\\n  with the 30 000 sofia what are you gonna\\ndo with it well my main goal is to do with it well my main goal is to\\n  do with it well my main goal is to\\nstreamline the production because uh streamline the production because uh\\n  streamline the production because uh\\nright now i'm only able to produce right now i'm only able to produce\\n  right now i'm only able to produce\\naround 100 units per month because i around 100 units per month because i\\n  around 100 units per month because i\\nhave a month uh yes that's horrible have a month uh yes that's horrible\\n  have a month uh yes that's horrible\\nso there's other things out there on the so there's other things out there on the\\n  so there's other things out there on the\\nmarket that hold in socks they have market that hold in socks they have\\n  market that hold in socks they have\\npockets right i do have competition pockets right i do have competition\\n  pockets right i do have competition\\nalthough my competitors only have like although my competitors only have like\\n  although my competitors only have like\\nsmall pockets for keys and stuff well small pockets for keys and stuff well\\n  small pockets for keys and stuff well\\nsophie look i love what you're doing and sophie look i love what you're doing and\\n  sophie look i love what you're doing and\\nit's wonderful to see this at such a it's wonderful to see this at such a\\n  it's wonderful to see this at such a\\nyoung age but i don't want a sock young age but i don't want a sock\\n  young age but i don't want a sock\\ncompany in my portfolio so i'm out company in my portfolio so i'm out\\n  company in my portfolio so i'm out\\nthank you sophie i think it's a great thank you sophie i think it's a great\\n  thank you sophie i think it's a great\\nidea i'm gonna get some for my kids um idea i'm gonna get some for my kids um\\n  idea i'm gonna get some for my kids um\\nfor me though it's not a great fit as an for me though it's not a great fit as an\\n  for me though it's not a great fit as an\\ninvestment simply because this isn't my investment simply because this isn't my\\n  investment simply because this isn't my\\nstrength i couldn't tell you about strength i couldn't tell you about\\n  strength i couldn't tell you about\\nthread counts you know um but thread counts you know um but\\n  thread counts you know um but\\ni mean congratulations you should be so i mean congratulations you should be so\\n  i mean congratulations you should be so\\nproud but it's not a fit for me so for proud but it's not a fit for me so for\\n  proud but it's not a fit for me so for\\nthose reasons i'm out those reasons i'm out\\n  those reasons i'm out\\nthank you very much congrats though thank you very much congrats though\\n  thank you very much congrats though\\nsophie sophie\\n  sophie\\ndo you feel that you do you feel that you\\n  do you feel that you\\nwant to be running a business right now want to be running a business right now\\n  want to be running a business right now\\nor is it a little stressful when you're or is it a little stressful when you're\\n  or is it a little stressful when you're\\ngoing to school and all of that i mean going to school and all of that i mean\\n  going to school and all of that i mean\\ngoing into high school is stressful on going into high school is stressful on\\n  going into high school is stressful on\\nits own but with the wise pocket product its own but with the wise pocket product\\n  its own but with the wise pocket product\\nit's kind of a boost for me i feel a it's kind of a boost for me i feel a\\n  it's kind of a boost for me i feel a\\nconfidence boost like if i can own a confidence boost like if i can own a\\n  confidence boost like if i can own a\\nbusiness then i can business then i can\\n  business then i can\\ngo through school and turn in that essay go through school and turn in that essay\\n  go through school and turn in that essay\\ngood thank you sophie thank you you're good thank you sophie thank you you're\\n  good thank you sophie thank you you're\\nalready out there hustling thinking already out there hustling thinking\\n  already out there hustling thinking\\ncreating doing it yourself so you've got creating doing it yourself so you've got\\n  creating doing it yourself so you've got\\neverything that it takes to really be a everything that it takes to really be a\\n  everything that it takes to really be a\\ngreat entrepreneur and damon and i want great entrepreneur and damon and i want\\n  great entrepreneur and damon and i want\\nto help you  \\n   \\nhe does quite a bit in the soccer arena he does quite a bit in the soccer arena\\n  he does quite a bit in the soccer arena\\nand he and he\\n  and he\\nwould like to do an offer with me would like to do an offer with me\\n  would like to do an offer with me\\ni started off with bombers they were i started off with bombers they were\\n  i started off with bombers they were\\ndoing 800 000 and they were donating to doing 800 000 and they were donating to\\n  doing 800 000 and they were donating to\\npeople and they donate over 10 million people and they donate over 10 million\\n  people and they donate over 10 million\\npairs of socks they're doing 120 million pairs of socks they're doing 120 million\\n  pairs of socks they're doing 120 million\\nnow and the donation is way more now and the donation is way more\\n  now and the donation is way more\\nimportant to them than the money yeah so important to them than the money yeah so\\n  important to them than the money yeah so\\nwhat do you think lori what do you think lori\\n  what do you think lori\\nwe'll we'll\\n  we'll\\ndo the 30 000 do the 30 000\\n  do the 30 000\\nwe'll be a third partner  \\n   \\nour goal is to try to find somebody to our goal is to try to find somebody to\\n  our goal is to try to find somebody to\\nlicense it and then when we get to that license it and then when we get to that\\n  license it and then when we get to that\\npoint we'll figure out what the point we'll figure out what the\\n  point we'll figure out what the\\nlicensing deal is do you want to take licensing deal is do you want to take\\n  licensing deal is do you want to take\\nthe 30 000 and give up one third of your the 30 000 and give up one third of your\\n  the 30 000 and give up one third of your\\ncompany you gotta make a decision yes or company you gotta make a decision yes or\\n  company you gotta make a decision yes or\\nno  \\n   \\nyou are right mr wonderful it's a lot of you are right mr wonderful it's a lot of\\n  you are right mr wonderful it's a lot of\\nmy company i'd like to make a my company i'd like to make a\\n  my company i'd like to make a\\ncounteroffer yeah sophie okay let's counteroffer yeah sophie okay let's\\n  counteroffer yeah sophie okay let's\\nshare it um share it um\\n  share it um\\n35 000 for 35 000 for\\n  35 000 for\\n25 25\\n  25\\nwow  \\n   \\nwow wow\\n  wow\\nsomebody's got negotiating skills so somebody's got negotiating skills so\\n  somebody's got negotiating skills so\\nyou're going you got a little you're going you got a little\\n  you're going you got a little\\nswitchblade in her sock on that one switchblade in her sock on that one\\n  switchblade in her sock on that one\\n25  \\n   \\n[Music]  \\n   \\nwe will take that offer thank you so we will take that offer thank you so\\n  we will take that offer thank you so\\nmuch  \\n   \\nwe're in the soccer business again yes we're in the soccer business again yes\\n  we're in the soccer business again yes\\nhigh five thank you thank you so much high five thank you thank you so much\\n  high five thank you thank you so much\\nproud of you i'm so impressed by you wow proud of you i'm so impressed by you wow\\n  proud of you i'm so impressed by you wow\\ncongratulations sophie well done thank congratulations sophie well done thank\\n  congratulations sophie well done thank\\nyou you\\n  you\\n[Music] [Music]\\n  [Music]\\ni'm very overwhelmed and i'm really i'm very overwhelmed and i'm really\\n  i'm very overwhelmed and i'm really\\nexcited that i got a deal with lauren excited that i got a deal with lauren\\n  excited that i got a deal with lauren\\ndamond and i'm just damond and i'm just\\n  damond and i'm just\\ni'm in heaven i mean i'm so excited  \\n   \\nyou\""
            ]
          },
          "metadata": {},
          "execution_count": 46
        }
      ]
    },
    {
      "cell_type": "markdown",
      "source": [
        "Subtitle auto generatednya banyak duplicate gitu euy, belom tau cara ngilanginnya dan bikin rapihnya"
      ],
      "metadata": {
        "id": "v_xKBqNegkH1"
      }
    }
  ]
}